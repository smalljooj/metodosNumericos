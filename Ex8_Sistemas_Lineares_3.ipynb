{
 "cells": [
  {
   "cell_type": "markdown",
   "id": "fd56ee05",
   "metadata": {},
   "source": [
    "# Ex8 - Sistemas Lineares 3 - Ismael Marinho"
   ]
  },
  {
   "cell_type": "code",
   "execution_count": 52,
   "id": "046bcd94",
   "metadata": {},
   "outputs": [],
   "source": [
    "import numpy as np\n",
    "import scipy.linalg as sla\n",
    "import matplotlib.pyplot as plt\n",
    "import plotly.graph_objects as go"
   ]
  },
  {
   "cell_type": "markdown",
   "id": "8727f33e",
   "metadata": {},
   "source": [
    "## Exercício 3.1"
   ]
  },
  {
   "cell_type": "code",
   "execution_count": 31,
   "id": "526f0851",
   "metadata": {},
   "outputs": [
    {
     "data": {
      "text/plain": [
       "array([-2., -4., -6.])"
      ]
     },
     "execution_count": 31,
     "metadata": {},
     "output_type": "execute_result"
    }
   ],
   "source": [
    "v_set = np.array([[1, 2, 3], [4, 5, 6], [7, 8, 9]])\n",
    "escalares = np.array([-3, 2 , -1])\n",
    "\n",
    "c = np.zeros(len(v_set))\n",
    "\n",
    "for i in range(len(v_set)):\n",
    "    c += v_set[i] * escalares[i]\n",
    "\n",
    "c"
   ]
  },
  {
   "cell_type": "markdown",
   "id": "6bf00dfb",
   "metadata": {},
   "source": [
    "## Exercício 3.2"
   ]
  },
  {
   "cell_type": "code",
   "execution_count": 34,
   "id": "41a2c432",
   "metadata": {},
   "outputs": [
    {
     "data": {
      "text/plain": [
       "array([-2., -4., -6., -8.])"
      ]
     },
     "execution_count": 34,
     "metadata": {},
     "output_type": "execute_result"
    }
   ],
   "source": [
    "v_set = np.array([[1, 2, 3, 4], [4, 5, 6, 7], [7, 8, 9, 10]])\n",
    "escalares = np.array([-3, 2 , -1])\n",
    "\n",
    "c = np.zeros(len(v_set[0]))\n",
    "\n",
    "for i in range(len(v_set)):\n",
    "    c += v_set[i] * escalares[i]\n",
    "\n",
    "c"
   ]
  },
  {
   "cell_type": "markdown",
   "id": "03f37a1b",
   "metadata": {},
   "source": [
    "Se tiver vetores R4, R5, R6... vai funcionar porque a multiplicação será a mesma só vai mudar a quantidades de números que vai multiplicar e depois somar, porém se tiver mais escalares vai dar erro, pode tanto dar erro de indexação como também nunca usar o escalar novo."
   ]
  },
  {
   "cell_type": "markdown",
   "id": "b31630b9",
   "metadata": {},
   "source": [
    "## Exercício 3.3"
   ]
  },
  {
   "cell_type": "code",
   "execution_count": 51,
   "id": "d4df856f",
   "metadata": {},
   "outputs": [
    {
     "data": {
      "image/png": "[encoded data removed]",
      "text/plain": [
       "<Figure size 640x480 with 1 Axes>"
      ]
     },
     "metadata": {},
     "output_type": "display_data"
    }
   ],
   "source": [
    "v = np.array([1, 3])\n",
    "escalares = np.random.uniform(-4, 4, 100)\n",
    "\n",
    "\n",
    "for s in escalares:\n",
    "    plt.plot(v[0] * s, v[1] * s, 'ko')\n",
    "\n",
    "plt.show()"
   ]
  },
  {
   "cell_type": "code",
   "execution_count": 61,
   "id": "4c2ecbdf",
   "metadata": {},
   "outputs": [
    {
     "data": {
      "application/vnd.plotly.v1+json": {
       "config": {
        "plotlyServerURL": "https://plot.ly"
       },
       "data": [
        {
         "mode": "markers",
         "type": "scatter3d",
         "x": [
          9.329209710706222,
          -9.446631750422362,
          8.577149125236627,
          -2.8431296260488974,
          9.602687708165135,
          -6.394491169835363,
          -11.295675759949487,
          10.853076066248105,
          -4.105800685734751,
          -8.153835535478276,
          -6.263208337569608,
          2.679435000655051,
          -5.397704260703007,
          -1.1311988714129715,
          -0.3256103996064734,
          -1.2288536330939852,
          5.736633006600782,
          -10.495936532609392,
          5.535180747432007,
          -3.1433252179994415,
          9.446055497960344,
          5.82793087027998,
          5.055626635291615,
          6.31688001817961,
          -9.900478745700735,
          1.0020844820650625,
          -8.81031482896207,
          5.736027677945136,
          5.0780801410233884,
          6.904664430744015,
          -0.7485867440764054,
          -1.0811382265310234,
          -6.714167395782874,
          -0.6626508356205534,
          -11.069932867177252,
          7.7066760704394115,
          -5.670779021053019,
          7.620681547118712,
          -1.9387684488297579,
          -4.366415228531629,
          -8.612261517016634,
          0.6717162764431999,
          3.360384964962644,
          11.018751066909637,
          1.6132558541834365,
          -3.2063797088287993,
          9.201923416879943,
          4.77631480300927,
          9.898947062774706,
          -3.437431961922001,
          -7.045433380612928,
          -1.4966940492073517,
          -0.6072921349420328,
          6.9798609840312915,
          -4.45815190993838,
          2.524761957944845,
          2.0500527450158783,
          7.299083184153637,
          -11.045649874750376,
          -3.9757742463301557,
          -4.992540107039471,
          11.309093541440788,
          1.4704650291258687,
          8.50523495289401,
          -1.9679248564702219,
          -10.776433762985553,
          6.29903248219548,
          6.180148949914596,
          3.4321052970155153,
          -10.112646900749528,
          2.036672054390735,
          7.140647359794508,
          -11.120342163934046,
          4.578429760445097,
          9.237645413426403,
          6.399855502058898,
          5.223516552561604,
          11.07039651802522,
          -1.5581349776835811,
          1.088390773842109,
          0.18743677714237617,
          -9.69551430684626,
          3.3386018535446604,
          -2.086580310409576,
          5.760378752116726,
          -10.25095892242933,
          6.99391033618516,
          10.678459021809777,
          -1.1908459479845206,
          9.091444003820174,
          4.868217146861297,
          3.34599995042578,
          4.606350795216479,
          0.6877748712018885,
          11.269953560407366,
          -10.610048254963544,
          -0.2511865936626334,
          5.882617465652437,
          5.687569152558164,
          -0.8751679049812155
         ],
         "y": [
          19.610239182043472,
          -22.07366699787665,
          13.146727661959662,
          -6.578480245919518,
          14.150857163196662,
          -5.706029612096206,
          -13.715212483239949,
          21.8574150250746,
          -5.54314336907048,
          -17.792672339742396,
          -17.390749766289133,
          2.182600747049589,
          -4.435199715487748,
          -3.594646872090486,
          -6.808999420984341,
          -6.654864102636314,
          10.727806461548258,
          -18.733778170914952,
          6.726782353280072,
          -10.10999199214382,
          12.605884298884623,
          9.97610479776479,
          4.983323032928276,
          13.841124152555894,
          -8.645692223946625,
          3.39338258878455,
          -22.433343137606293,
          12.869874906845512,
          14.943601017650543,
          6.83842629794599,
          -5.901097063844942,
          0.9271593354444692,
          -16.142146877610696,
          -7.600467658043618,
          -13.520686318244056,
          16.19361954667376,
          -7.144660656161024,
          12.889658603955782,
          -3.2721911819416123,
          -15.227108081058779,
          -14.190944881358691,
          8.824682171155608,
          2.359931470445164,
          23.08346377212836,
          -1.973483793145129,
          -9.040769674343572,
          22.12391376280943,
          6.425914071652243,
          18.608193838747766,
          -10.930034289250028,
          -17.420292578817563,
          -4.069953028201103,
          2.835152185133645,
          5.284094244855744,
          -9.754018750455463,
          -1.7304366822584765,
          3.6577712338805233,
          7.538762254613189,
          -17.89028382743936,
          -4.941048594954205,
          -7.249019800225167,
          20.65248167703108,
          -1.8783266129459335,
          15.263725238232963,
          -3.700410377608926,
          -19.138023351067968,
          15.005549431998617,
          12.886419535334468,
          8.941601480062783,
          -21.472811948213053,
          6.409025587766331,
          14.674761126004269,
          -16.157518221993605,
          7.373656951143468,
          8.707969690687982,
          5.864699217483054,
          12.391928581404676,
          24.60309865280484,
          -3.2343487081916287,
          7.532927994240543,
          -2.60447359028847,
          -11.459980637066083,
          -1.8028925610539224,
          3.8619389696309367,
          13.199859744376477,
          -18.96769470858193,
          7.098402986667088,
          14.087478541272699,
          -1.0596421355244985,
          12.634090281283934,
          0.4457458227131408,
          0.07176862129887063,
          8.131446811154476,
          1.7807877123612368,
          17.641948257504268,
          -12.3835194802851,
          0.576613471413455,
          15.109426136883725,
          7.415033124806625,
          2.444993328928546
         ],
         "z": [
          7.171292901101845,
          -9.478157997313499,
          1.7105288283108289,
          -2.7876407445209885,
          1.3472735523098152,
          2.819958614350946,
          1.3456885300260328,
          7.386646936743794,
          -0.0687424547574782,
          -6.920891625771363,
          -9.039805316196324,
          -1.389979253823812,
          2.7617392987829277,
          -2.086381710206524,
          -6.374852221509043,
          -5.016392591844333,
          3.0789624527472164,
          -4.739196127435766,
          -0.6534586432959371,
          -5.918891701477898,
          0.011143634937499591,
          2.2055303040581506,
          -1.7575124807938778,
          5.418617461649747,
          4.554946103654356,
          2.0572699460311332,
          -10.686256698990201,
          5.2218380029186635,
          8.172827496286025,
          -2.3677929430460303,
          -4.902981405076401,
          2.368676970819167,
          -7.18992368323353,
          -6.716933210549547,
          1.2392241713256151,
          5.9180514527545425,
          0.4163780385763358,
          2.7287498744641656,
          -0.6871665835019352,
          -9.405221109683273,
          -2.707929525336512,
          7.9290604692313424,
          -2.1205818161716943,
          8.391795682915507,
          -4.124491598723044,
          -4.7655967292385055,
          9.85468254030284,
          0.05749433430654971,
          5.409597755048156,
          -6.346791673354027,
          -8.026381404666992,
          -2.0743609625913004,
          3.6448750317230223,
          -4.022387067185979,
          -3.809816203870957,
          -5.09678595951827,
          0.9243675738593522,
          -2.1933486575916588,
          -3.162750661105523,
          0.3599837334860023,
          -0.5922996575058725,
          5.573690288443363,
          -3.838946651780425,
          3.923411967707618,
          -1.0765105689819636,
          -4.769445000420566,
          6.606839455737976,
          4.646220935448341,
          4.365461084042097,
          -7.989282747213682,
          3.693462848578685,
          5.153897979611591,
          -1.3303953367482144,
          1.2690839372166725,
          -3.6088908605472243,
          -2.6684414519288104,
          5.427239844655871,
          9.842569962104541,
          -1.1568354046135205,
          6.081740295784398,
          -2.8543892931449717,
          1.467371772062263,
          -6.25436169911347,
          6.644046050177038,
          5.519354741554176,
          -5.299749478676158,
          -2.226810794913127,
          -0.15046682114033594,
          0.5281524617881956,
          0.5121649428570354,
          -6.045210373101921,
          -4.389564645935502,
          1.9896457508658374,
          0.8637545507587188,
          2.615343510294447,
          1.7632115263329569,
          0.9115289296302995,
          7.265936182680475,
          -0.16839241193759324,
          3.6118838689035
         ]
        }
       ],
       "layout": {
        "template": {
         "data": {
          "bar": [
           {
            "error_x": {
             "color": "#2a3f5f"
            },
            "error_y": {
             "color": "#2a3f5f"
            },
            "marker": {
             "line": {
              "color": "#E5ECF6",
              "width": 0.5
             },
             "pattern": {
              "fillmode": "overlay",
              "size": 10,
              "solidity": 0.2
             }
            },
            "type": "bar"
           }
          ],
          "barpolar": [
           {
            "marker": {
             "line": {
              "color": "#E5ECF6",
              "width": 0.5
             },
             "pattern": {
              "fillmode": "overlay",
              "size": 10,
              "solidity": 0.2
             }
            },
            "type": "barpolar"
           }
          ],
          "carpet": [
           {
            "aaxis": {
             "endlinecolor": "#2a3f5f",
             "gridcolor": "white",
             "linecolor": "white",
             "minorgridcolor": "white",
             "startlinecolor": "#2a3f5f"
            },
            "baxis": {
             "endlinecolor": "#2a3f5f",
             "gridcolor": "white",
             "linecolor": "white",
             "minorgridcolor": "white",
             "startlinecolor": "#2a3f5f"
            },
            "type": "carpet"
           }
          ],
          "choropleth": [
           {
            "colorbar": {
             "outlinewidth": 0,
             "ticks": ""
            },
            "type": "choropleth"
           }
          ],
          "contour": [
           {
            "colorbar": {
             "outlinewidth": 0,
             "ticks": ""
            },
            "colorscale": [
             [
              0,
              "#0d0887"
             ],
             [
              0.1111111111111111,
              "#46039f"
             ],
             [
              0.2222222222222222,
              "#7201a8"
             ],
             [
              0.3333333333333333,
              "#9c179e"
             ],
             [
              0.4444444444444444,
              "#bd3786"
             ],
             [
              0.5555555555555556,
              "#d8576b"
             ],
             [
              0.6666666666666666,
              "#ed7953"
             ],
             [
              0.7777777777777778,
              "#fb9f3a"
             ],
             [
              0.8888888888888888,
              "#fdca26"
             ],
             [
              1,
              "#f0f921"
             ]
            ],
            "type": "contour"
           }
          ],
          "contourcarpet": [
           {
            "colorbar": {
             "outlinewidth": 0,
             "ticks": ""
            },
            "type": "contourcarpet"
           }
          ],
          "heatmap": [
           {
            "colorbar": {
             "outlinewidth": 0,
             "ticks": ""
            },
            "colorscale": [
             [
              0,
              "#0d0887"
             ],
             [
              0.1111111111111111,
              "#46039f"
             ],
             [
              0.2222222222222222,
              "#7201a8"
             ],
             [
              0.3333333333333333,
              "#9c179e"
             ],
             [
              0.4444444444444444,
              "#bd3786"
             ],
             [
              0.5555555555555556,
              "#d8576b"
             ],
             [
              0.6666666666666666,
              "#ed7953"
             ],
             [
              0.7777777777777778,
              "#fb9f3a"
             ],
             [
              0.8888888888888888,
              "#fdca26"
             ],
             [
              1,
              "#f0f921"
             ]
            ],
            "type": "heatmap"
           }
          ],
          "heatmapgl": [
           {
            "colorbar": {
             "outlinewidth": 0,
             "ticks": ""
            },
            "colorscale": [
             [
              0,
              "#0d0887"
             ],
             [
              0.1111111111111111,
              "#46039f"
             ],
             [
              0.2222222222222222,
              "#7201a8"
             ],
             [
              0.3333333333333333,
              "#9c179e"
             ],
             [
              0.4444444444444444,
              "#bd3786"
             ],
             [
              0.5555555555555556,
              "#d8576b"
             ],
             [
              0.6666666666666666,
              "#ed7953"
             ],
             [
              0.7777777777777778,
              "#fb9f3a"
             ],
             [
              0.8888888888888888,
              "#fdca26"
             ],
             [
              1,
              "#f0f921"
             ]
            ],
            "type": "heatmapgl"
           }
          ],
          "histogram": [
           {
            "marker": {
             "pattern": {
              "fillmode": "overlay",
              "size": 10,
              "solidity": 0.2
             }
            },
            "type": "histogram"
           }
          ],
          "histogram2d": [
           {
            "colorbar": {
             "outlinewidth": 0,
             "ticks": ""
            },
            "colorscale": [
             [
              0,
              "#0d0887"
             ],
             [
              0.1111111111111111,
              "#46039f"
             ],
             [
              0.2222222222222222,
              "#7201a8"
             ],
             [
              0.3333333333333333,
              "#9c179e"
             ],
             [
              0.4444444444444444,
              "#bd3786"
             ],
             [
              0.5555555555555556,
              "#d8576b"
             ],
             [
              0.6666666666666666,
              "#ed7953"
             ],
             [
              0.7777777777777778,
              "#fb9f3a"
             ],
             [
              0.8888888888888888,
              "#fdca26"
             ],
             [
              1,
              "#f0f921"
             ]
            ],
            "type": "histogram2d"
           }
          ],
          "histogram2dcontour": [
           {
            "colorbar": {
             "outlinewidth": 0,
             "ticks": ""
            },
            "colorscale": [
             [
              0,
              "#0d0887"
             ],
             [
              0.1111111111111111,
              "#46039f"
             ],
             [
              0.2222222222222222,
              "#7201a8"
             ],
             [
              0.3333333333333333,
              "#9c179e"
             ],
             [
              0.4444444444444444,
              "#bd3786"
             ],
             [
              0.5555555555555556,
              "#d8576b"
             ],
             [
              0.6666666666666666,
              "#ed7953"
             ],
             [
              0.7777777777777778,
              "#fb9f3a"
             ],
             [
              0.8888888888888888,
              "#fdca26"
             ],
             [
              1,
              "#f0f921"
             ]
            ],
            "type": "histogram2dcontour"
           }
          ],
          "mesh3d": [
           {
            "colorbar": {
             "outlinewidth": 0,
             "ticks": ""
            },
            "type": "mesh3d"
           }
          ],
          "parcoords": [
           {
            "line": {
             "colorbar": {
              "outlinewidth": 0,
              "ticks": ""
             }
            },
            "type": "parcoords"
           }
          ],
          "pie": [
           {
            "automargin": true,
            "type": "pie"
           }
          ],
          "scatter": [
           {
            "fillpattern": {
             "fillmode": "overlay",
             "size": 10,
             "solidity": 0.2
            },
            "type": "scatter"
           }
          ],
          "scatter3d": [
           {
            "line": {
             "colorbar": {
              "outlinewidth": 0,
              "ticks": ""
             }
            },
            "marker": {
             "colorbar": {
              "outlinewidth": 0,
              "ticks": ""
             }
            },
            "type": "scatter3d"
           }
          ],
          "scattercarpet": [
           {
            "marker": {
             "colorbar": {
              "outlinewidth": 0,
              "ticks": ""
             }
            },
            "type": "scattercarpet"
           }
          ],
          "scattergeo": [
           {
            "marker": {
             "colorbar": {
              "outlinewidth": 0,
              "ticks": ""
             }
            },
            "type": "scattergeo"
           }
          ],
          "scattergl": [
           {
            "marker": {
             "colorbar": {
              "outlinewidth": 0,
              "ticks": ""
             }
            },
            "type": "scattergl"
           }
          ],
          "scattermapbox": [
           {
            "marker": {
             "colorbar": {
              "outlinewidth": 0,
              "ticks": ""
             }
            },
            "type": "scattermapbox"
           }
          ],
          "scatterpolar": [
           {
            "marker": {
             "colorbar": {
              "outlinewidth": 0,
              "ticks": ""
             }
            },
            "type": "scatterpolar"
           }
          ],
          "scatterpolargl": [
           {
            "marker": {
             "colorbar": {
              "outlinewidth": 0,
              "ticks": ""
             }
            },
            "type": "scatterpolargl"
           }
          ],
          "scatterternary": [
           {
            "marker": {
             "colorbar": {
              "outlinewidth": 0,
              "ticks": ""
             }
            },
            "type": "scatterternary"
           }
          ],
          "surface": [
           {
            "colorbar": {
             "outlinewidth": 0,
             "ticks": ""
            },
            "colorscale": [
             [
              0,
              "#0d0887"
             ],
             [
              0.1111111111111111,
              "#46039f"
             ],
             [
              0.2222222222222222,
              "#7201a8"
             ],
             [
              0.3333333333333333,
              "#9c179e"
             ],
             [
              0.4444444444444444,
              "#bd3786"
             ],
             [
              0.5555555555555556,
              "#d8576b"
             ],
             [
              0.6666666666666666,
              "#ed7953"
             ],
             [
              0.7777777777777778,
              "#fb9f3a"
             ],
             [
              0.8888888888888888,
              "#fdca26"
             ],
             [
              1,
              "#f0f921"
             ]
            ],
            "type": "surface"
           }
          ],
          "table": [
           {
            "cells": {
             "fill": {
              "color": "#EBF0F8"
             },
             "line": {
              "color": "white"
             }
            },
            "header": {
             "fill": {
              "color": "#C8D4E3"
             },
             "line": {
              "color": "white"
             }
            },
            "type": "table"
           }
          ]
         },
         "layout": {
          "annotationdefaults": {
           "arrowcolor": "#2a3f5f",
           "arrowhead": 0,
           "arrowwidth": 1
          },
          "autotypenumbers": "strict",
          "coloraxis": {
           "colorbar": {
            "outlinewidth": 0,
            "ticks": ""
           }
          },
          "colorscale": {
           "diverging": [
            [
             0,
             "#8e0152"
            ],
            [
             0.1,
             "#c51b7d"
            ],
            [
             0.2,
             "#de77ae"
            ],
            [
             0.3,
             "#f1b6da"
            ],
            [
             0.4,
             "#fde0ef"
            ],
            [
             0.5,
             "#f7f7f7"
            ],
            [
             0.6,
             "#e6f5d0"
            ],
            [
             0.7,
             "#b8e186"
            ],
            [
             0.8,
             "#7fbc41"
            ],
            [
             0.9,
             "#4d9221"
            ],
            [
             1,
             "#276419"
            ]
           ],
           "sequential": [
            [
             0,
             "#0d0887"
            ],
            [
             0.1111111111111111,
             "#46039f"
            ],
            [
             0.2222222222222222,
             "#7201a8"
            ],
            [
             0.3333333333333333,
             "#9c179e"
            ],
            [
             0.4444444444444444,
             "#bd3786"
            ],
            [
             0.5555555555555556,
             "#d8576b"
            ],
            [
             0.6666666666666666,
             "#ed7953"
            ],
            [
             0.7777777777777778,
             "#fb9f3a"
            ],
            [
             0.8888888888888888,
             "#fdca26"
            ],
            [
             1,
             "#f0f921"
            ]
           ],
           "sequentialminus": [
            [
             0,
             "#0d0887"
            ],
            [
             0.1111111111111111,
             "#46039f"
            ],
            [
             0.2222222222222222,
             "#7201a8"
            ],
            [
             0.3333333333333333,
             "#9c179e"
            ],
            [
             0.4444444444444444,
             "#bd3786"
            ],
            [
             0.5555555555555556,
             "#d8576b"
            ],
            [
             0.6666666666666666,
             "#ed7953"
            ],
            [
             0.7777777777777778,
             "#fb9f3a"
            ],
            [
             0.8888888888888888,
             "#fdca26"
            ],
            [
             1,
             "#f0f921"
            ]
           ]
          },
          "colorway": [
           "#636efa",
           "#EF553B",
           "#00cc96",
           "#ab63fa",
           "#FFA15A",
           "#19d3f3",
           "#FF6692",
           "#B6E880",
           "#FF97FF",
           "#FECB52"
          ],
          "font": {
           "color": "#2a3f5f"
          },
          "geo": {
           "bgcolor": "white",
           "lakecolor": "white",
           "landcolor": "#E5ECF6",
           "showlakes": true,
           "showland": true,
           "subunitcolor": "white"
          },
          "hoverlabel": {
           "align": "left"
          },
          "hovermode": "closest",
          "mapbox": {
           "style": "light"
          },
          "paper_bgcolor": "white",
          "plot_bgcolor": "#E5ECF6",
          "polar": {
           "angularaxis": {
            "gridcolor": "white",
            "linecolor": "white",
            "ticks": ""
           },
           "bgcolor": "#E5ECF6",
           "radialaxis": {
            "gridcolor": "white",
            "linecolor": "white",
            "ticks": ""
           }
          },
          "scene": {
           "xaxis": {
            "backgroundcolor": "#E5ECF6",
            "gridcolor": "white",
            "gridwidth": 2,
            "linecolor": "white",
            "showbackground": true,
            "ticks": "",
            "zerolinecolor": "white"
           },
           "yaxis": {
            "backgroundcolor": "#E5ECF6",
            "gridcolor": "white",
            "gridwidth": 2,
            "linecolor": "white",
            "showbackground": true,
            "ticks": "",
            "zerolinecolor": "white"
           },
           "zaxis": {
            "backgroundcolor": "#E5ECF6",
            "gridcolor": "white",
            "gridwidth": 2,
            "linecolor": "white",
            "showbackground": true,
            "ticks": "",
            "zerolinecolor": "white"
           }
          },
          "shapedefaults": {
           "line": {
            "color": "#2a3f5f"
           }
          },
          "ternary": {
           "aaxis": {
            "gridcolor": "white",
            "linecolor": "white",
            "ticks": ""
           },
           "baxis": {
            "gridcolor": "white",
            "linecolor": "white",
            "ticks": ""
           },
           "bgcolor": "#E5ECF6",
           "caxis": {
            "gridcolor": "white",
            "linecolor": "white",
            "ticks": ""
           }
          },
          "title": {
           "x": 0.05
          },
          "xaxis": {
           "automargin": true,
           "gridcolor": "white",
           "linecolor": "white",
           "ticks": "",
           "title": {
            "standoff": 15
           },
           "zerolinecolor": "white",
           "zerolinewidth": 2
          },
          "yaxis": {
           "automargin": true,
           "gridcolor": "white",
           "linecolor": "white",
           "ticks": "",
           "title": {
            "standoff": 15
           },
           "zerolinecolor": "white",
           "zerolinewidth": 2
          }
         }
        }
       }
      },
      "text/html": [
       "<div>                            <div id=\"1174f1a4-79f2-45fb-896c-e252b4d686c3\" class=\"plotly-graph-div\" style=\"height:525px; width:100%;\"></div>            <script type=\"text/javascript\">                require([\"plotly\"], function(Plotly) {                    window.PLOTLYENV=window.PLOTLYENV || {};                                    if (document.getElementById(\"1174f1a4-79f2-45fb-896c-e252b4d686c3\")) {                    Plotly.newPlot(                        \"1174f1a4-79f2-45fb-896c-e252b4d686c3\",                        [{\"mode\":\"markers\",\"x\":[9.329209710706222,-9.446631750422362,8.577149125236627,-2.8431296260488974,9.602687708165135,-6.394491169835363,-11.295675759949487,10.853076066248105,-4.105800685734751,-8.153835535478276,-6.263208337569608,2.679435000655051,-5.397704260703007,-1.1311988714129715,-0.3256103996064734,-1.2288536330939852,5.736633006600782,-10.495936532609392,5.535180747432007,-3.1433252179994415,9.446055497960344,5.82793087027998,5.055626635291615,6.31688001817961,-9.900478745700735,1.0020844820650625,-8.81031482896207,5.736027677945136,5.0780801410233884,6.904664430744015,-0.7485867440764054,-1.0811382265310234,-6.714167395782874,-0.6626508356205534,-11.069932867177252,7.7066760704394115,-5.670779021053019,7.620681547118712,-1.9387684488297579,-4.366415228531629,-8.612261517016634,0.6717162764431999,3.360384964962644,11.018751066909637,1.6132558541834365,-3.2063797088287993,9.201923416879943,4.77631480300927,9.898947062774706,-3.437431961922001,-7.045433380612928,-1.4966940492073517,-0.6072921349420328,6.9798609840312915,-4.45815190993838,2.524761957944845,2.0500527450158783,7.299083184153637,-11.045649874750376,-3.9757742463301557,-4.992540107039471,11.309093541440788,1.4704650291258687,8.50523495289401,-1.9679248564702219,-10.776433762985553,6.29903248219548,6.180148949914596,3.4321052970155153,-10.112646900749528,2.036672054390735,7.140647359794508,-11.120342163934046,4.578429760445097,9.237645413426403,6.399855502058898,5.223516552561604,11.07039651802522,-1.5581349776835811,1.088390773842109,0.18743677714237617,-9.69551430684626,3.3386018535446604,-2.086580310409576,5.760378752116726,-10.25095892242933,6.99391033618516,10.678459021809777,-1.1908459479845206,9.091444003820174,4.868217146861297,3.34599995042578,4.606350795216479,0.6877748712018885,11.269953560407366,-10.610048254963544,-0.2511865936626334,5.882617465652437,5.687569152558164,-0.8751679049812155],\"y\":[19.610239182043472,-22.07366699787665,13.146727661959662,-6.578480245919518,14.150857163196662,-5.706029612096206,-13.715212483239949,21.8574150250746,-5.54314336907048,-17.792672339742396,-17.390749766289133,2.182600747049589,-4.435199715487748,-3.594646872090486,-6.808999420984341,-6.654864102636314,10.727806461548258,-18.733778170914952,6.726782353280072,-10.10999199214382,12.605884298884623,9.97610479776479,4.983323032928276,13.841124152555894,-8.645692223946625,3.39338258878455,-22.433343137606293,12.869874906845512,14.943601017650543,6.83842629794599,-5.901097063844942,0.9271593354444692,-16.142146877610696,-7.600467658043618,-13.520686318244056,16.19361954667376,-7.144660656161024,12.889658603955782,-3.2721911819416123,-15.227108081058779,-14.190944881358691,8.824682171155608,2.359931470445164,23.08346377212836,-1.973483793145129,-9.040769674343572,22.12391376280943,6.425914071652243,18.608193838747766,-10.930034289250028,-17.420292578817563,-4.069953028201103,2.835152185133645,5.284094244855744,-9.754018750455463,-1.7304366822584765,3.6577712338805233,7.538762254613189,-17.89028382743936,-4.941048594954205,-7.249019800225167,20.65248167703108,-1.8783266129459335,15.263725238232963,-3.700410377608926,-19.138023351067968,15.005549431998617,12.886419535334468,8.941601480062783,-21.472811948213053,6.409025587766331,14.674761126004269,-16.157518221993605,7.373656951143468,8.707969690687982,5.864699217483054,12.391928581404676,24.60309865280484,-3.2343487081916287,7.532927994240543,-2.60447359028847,-11.459980637066083,-1.8028925610539224,3.8619389696309367,13.199859744376477,-18.96769470858193,7.098402986667088,14.087478541272699,-1.0596421355244985,12.634090281283934,0.4457458227131408,0.07176862129887063,8.131446811154476,1.7807877123612368,17.641948257504268,-12.3835194802851,0.576613471413455,15.109426136883725,7.415033124806625,2.444993328928546],\"z\":[7.171292901101845,-9.478157997313499,1.7105288283108289,-2.7876407445209885,1.3472735523098152,2.819958614350946,1.3456885300260328,7.386646936743794,-0.0687424547574782,-6.920891625771363,-9.039805316196324,-1.389979253823812,2.7617392987829277,-2.086381710206524,-6.374852221509043,-5.016392591844333,3.0789624527472164,-4.739196127435766,-0.6534586432959371,-5.918891701477898,0.011143634937499591,2.2055303040581506,-1.7575124807938778,5.418617461649747,4.554946103654356,2.0572699460311332,-10.686256698990201,5.2218380029186635,8.172827496286025,-2.3677929430460303,-4.902981405076401,2.368676970819167,-7.18992368323353,-6.716933210549547,1.2392241713256151,5.9180514527545425,0.4163780385763358,2.7287498744641656,-0.6871665835019352,-9.405221109683273,-2.707929525336512,7.9290604692313424,-2.1205818161716943,8.391795682915507,-4.124491598723044,-4.7655967292385055,9.85468254030284,0.05749433430654971,5.409597755048156,-6.346791673354027,-8.026381404666992,-2.0743609625913004,3.6448750317230223,-4.022387067185979,-3.809816203870957,-5.09678595951827,0.9243675738593522,-2.1933486575916588,-3.162750661105523,0.3599837334860023,-0.5922996575058725,5.573690288443363,-3.838946651780425,3.923411967707618,-1.0765105689819636,-4.769445000420566,6.606839455737976,4.646220935448341,4.365461084042097,-7.989282747213682,3.693462848578685,5.153897979611591,-1.3303953367482144,1.2690839372166725,-3.6088908605472243,-2.6684414519288104,5.427239844655871,9.842569962104541,-1.1568354046135205,6.081740295784398,-2.8543892931449717,1.467371772062263,-6.25436169911347,6.644046050177038,5.519354741554176,-5.299749478676158,-2.226810794913127,-0.15046682114033594,0.5281524617881956,0.5121649428570354,-6.045210373101921,-4.389564645935502,1.9896457508658374,0.8637545507587188,2.615343510294447,1.7632115263329569,0.9115289296302995,7.265936182680475,-0.16839241193759324,3.6118838689035],\"type\":\"scatter3d\"}],                        {\"template\":{\"data\":{\"histogram2dcontour\":[{\"type\":\"histogram2dcontour\",\"colorbar\":{\"outlinewidth\":0,\"ticks\":\"\"},\"colorscale\":[[0.0,\"#0d0887\"],[0.1111111111111111,\"#46039f\"],[0.2222222222222222,\"#7201a8\"],[0.3333333333333333,\"#9c179e\"],[0.4444444444444444,\"#bd3786\"],[0.5555555555555556,\"#d8576b\"],[0.6666666666666666,\"#ed7953\"],[0.7777777777777778,\"#fb9f3a\"],[0.8888888888888888,\"#fdca26\"],[1.0,\"#f0f921\"]]}],\"choropleth\":[{\"type\":\"choropleth\",\"colorbar\":{\"outlinewidth\":0,\"ticks\":\"\"}}],\"histogram2d\":[{\"type\":\"histogram2d\",\"colorbar\":{\"outlinewidth\":0,\"ticks\":\"\"},\"colorscale\":[[0.0,\"#0d0887\"],[0.1111111111111111,\"#46039f\"],[0.2222222222222222,\"#7201a8\"],[0.3333333333333333,\"#9c179e\"],[0.4444444444444444,\"#bd3786\"],[0.5555555555555556,\"#d8576b\"],[0.6666666666666666,\"#ed7953\"],[0.7777777777777778,\"#fb9f3a\"],[0.8888888888888888,\"#fdca26\"],[1.0,\"#f0f921\"]]}],\"heatmap\":[{\"type\":\"heatmap\",\"colorbar\":{\"outlinewidth\":0,\"ticks\":\"\"},\"colorscale\":[[0.0,\"#0d0887\"],[0.1111111111111111,\"#46039f\"],[0.2222222222222222,\"#7201a8\"],[0.3333333333333333,\"#9c179e\"],[0.4444444444444444,\"#bd3786\"],[0.5555555555555556,\"#d8576b\"],[0.6666666666666666,\"#ed7953\"],[0.7777777777777778,\"#fb9f3a\"],[0.8888888888888888,\"#fdca26\"],[1.0,\"#f0f921\"]]}],\"heatmapgl\":[{\"type\":\"heatmapgl\",\"colorbar\":{\"outlinewidth\":0,\"ticks\":\"\"},\"colorscale\":[[0.0,\"#0d0887\"],[0.1111111111111111,\"#46039f\"],[0.2222222222222222,\"#7201a8\"],[0.3333333333333333,\"#9c179e\"],[0.4444444444444444,\"#bd3786\"],[0.5555555555555556,\"#d8576b\"],[0.6666666666666666,\"#ed7953\"],[0.7777777777777778,\"#fb9f3a\"],[0.8888888888888888,\"#fdca26\"],[1.0,\"#f0f921\"]]}],\"contourcarpet\":[{\"type\":\"contourcarpet\",\"colorbar\":{\"outlinewidth\":0,\"ticks\":\"\"}}],\"contour\":[{\"type\":\"contour\",\"colorbar\":{\"outlinewidth\":0,\"ticks\":\"\"},\"colorscale\":[[0.0,\"#0d0887\"],[0.1111111111111111,\"#46039f\"],[0.2222222222222222,\"#7201a8\"],[0.3333333333333333,\"#9c179e\"],[0.4444444444444444,\"#bd3786\"],[0.5555555555555556,\"#d8576b\"],[0.6666666666666666,\"#ed7953\"],[0.7777777777777778,\"#fb9f3a\"],[0.8888888888888888,\"#fdca26\"],[1.0,\"#f0f921\"]]}],\"surface\":[{\"type\":\"surface\",\"colorbar\":{\"outlinewidth\":0,\"ticks\":\"\"},\"colorscale\":[[0.0,\"#0d0887\"],[0.1111111111111111,\"#46039f\"],[0.2222222222222222,\"#7201a8\"],[0.3333333333333333,\"#9c179e\"],[0.4444444444444444,\"#bd3786\"],[0.5555555555555556,\"#d8576b\"],[0.6666666666666666,\"#ed7953\"],[0.7777777777777778,\"#fb9f3a\"],[0.8888888888888888,\"#fdca26\"],[1.0,\"#f0f921\"]]}],\"mesh3d\":[{\"type\":\"mesh3d\",\"colorbar\":{\"outlinewidth\":0,\"ticks\":\"\"}}],\"scatter\":[{\"fillpattern\":{\"fillmode\":\"overlay\",\"size\":10,\"solidity\":0.2},\"type\":\"scatter\"}],\"parcoords\":[{\"type\":\"parcoords\",\"line\":{\"colorbar\":{\"outlinewidth\":0,\"ticks\":\"\"}}}],\"scatterpolargl\":[{\"type\":\"scatterpolargl\",\"marker\":{\"colorbar\":{\"outlinewidth\":0,\"ticks\":\"\"}}}],\"bar\":[{\"error_x\":{\"color\":\"#2a3f5f\"},\"error_y\":{\"color\":\"#2a3f5f\"},\"marker\":{\"line\":{\"color\":\"#E5ECF6\",\"width\":0.5},\"pattern\":{\"fillmode\":\"overlay\",\"size\":10,\"solidity\":0.2}},\"type\":\"bar\"}],\"scattergeo\":[{\"type\":\"scattergeo\",\"marker\":{\"colorbar\":{\"outlinewidth\":0,\"ticks\":\"\"}}}],\"scatterpolar\":[{\"type\":\"scatterpolar\",\"marker\":{\"colorbar\":{\"outlinewidth\":0,\"ticks\":\"\"}}}],\"histogram\":[{\"marker\":{\"pattern\":{\"fillmode\":\"overlay\",\"size\":10,\"solidity\":0.2}},\"type\":\"histogram\"}],\"scattergl\":[{\"type\":\"scattergl\",\"marker\":{\"colorbar\":{\"outlinewidth\":0,\"ticks\":\"\"}}}],\"scatter3d\":[{\"type\":\"scatter3d\",\"line\":{\"colorbar\":{\"outlinewidth\":0,\"ticks\":\"\"}},\"marker\":{\"colorbar\":{\"outlinewidth\":0,\"ticks\":\"\"}}}],\"scattermapbox\":[{\"type\":\"scattermapbox\",\"marker\":{\"colorbar\":{\"outlinewidth\":0,\"ticks\":\"\"}}}],\"scatterternary\":[{\"type\":\"scatterternary\",\"marker\":{\"colorbar\":{\"outlinewidth\":0,\"ticks\":\"\"}}}],\"scattercarpet\":[{\"type\":\"scattercarpet\",\"marker\":{\"colorbar\":{\"outlinewidth\":0,\"ticks\":\"\"}}}],\"carpet\":[{\"aaxis\":{\"endlinecolor\":\"#2a3f5f\",\"gridcolor\":\"white\",\"linecolor\":\"white\",\"minorgridcolor\":\"white\",\"startlinecolor\":\"#2a3f5f\"},\"baxis\":{\"endlinecolor\":\"#2a3f5f\",\"gridcolor\":\"white\",\"linecolor\":\"white\",\"minorgridcolor\":\"white\",\"startlinecolor\":\"#2a3f5f\"},\"type\":\"carpet\"}],\"table\":[{\"cells\":{\"fill\":{\"color\":\"#EBF0F8\"},\"line\":{\"color\":\"white\"}},\"header\":{\"fill\":{\"color\":\"#C8D4E3\"},\"line\":{\"color\":\"white\"}},\"type\":\"table\"}],\"barpolar\":[{\"marker\":{\"line\":{\"color\":\"#E5ECF6\",\"width\":0.5},\"pattern\":{\"fillmode\":\"overlay\",\"size\":10,\"solidity\":0.2}},\"type\":\"barpolar\"}],\"pie\":[{\"automargin\":true,\"type\":\"pie\"}]},\"layout\":{\"autotypenumbers\":\"strict\",\"colorway\":[\"#636efa\",\"#EF553B\",\"#00cc96\",\"#ab63fa\",\"#FFA15A\",\"#19d3f3\",\"#FF6692\",\"#B6E880\",\"#FF97FF\",\"#FECB52\"],\"font\":{\"color\":\"#2a3f5f\"},\"hovermode\":\"closest\",\"hoverlabel\":{\"align\":\"left\"},\"paper_bgcolor\":\"white\",\"plot_bgcolor\":\"#E5ECF6\",\"polar\":{\"bgcolor\":\"#E5ECF6\",\"angularaxis\":{\"gridcolor\":\"white\",\"linecolor\":\"white\",\"ticks\":\"\"},\"radialaxis\":{\"gridcolor\":\"white\",\"linecolor\":\"white\",\"ticks\":\"\"}},\"ternary\":{\"bgcolor\":\"#E5ECF6\",\"aaxis\":{\"gridcolor\":\"white\",\"linecolor\":\"white\",\"ticks\":\"\"},\"baxis\":{\"gridcolor\":\"white\",\"linecolor\":\"white\",\"ticks\":\"\"},\"caxis\":{\"gridcolor\":\"white\",\"linecolor\":\"white\",\"ticks\":\"\"}},\"coloraxis\":{\"colorbar\":{\"outlinewidth\":0,\"ticks\":\"\"}},\"colorscale\":{\"sequential\":[[0.0,\"#0d0887\"],[0.1111111111111111,\"#46039f\"],[0.2222222222222222,\"#7201a8\"],[0.3333333333333333,\"#9c179e\"],[0.4444444444444444,\"#bd3786\"],[0.5555555555555556,\"#d8576b\"],[0.6666666666666666,\"#ed7953\"],[0.7777777777777778,\"#fb9f3a\"],[0.8888888888888888,\"#fdca26\"],[1.0,\"#f0f921\"]],\"sequentialminus\":[[0.0,\"#0d0887\"],[0.1111111111111111,\"#46039f\"],[0.2222222222222222,\"#7201a8\"],[0.3333333333333333,\"#9c179e\"],[0.4444444444444444,\"#bd3786\"],[0.5555555555555556,\"#d8576b\"],[0.6666666666666666,\"#ed7953\"],[0.7777777777777778,\"#fb9f3a\"],[0.8888888888888888,\"#fdca26\"],[1.0,\"#f0f921\"]],\"diverging\":[[0,\"#8e0152\"],[0.1,\"#c51b7d\"],[0.2,\"#de77ae\"],[0.3,\"#f1b6da\"],[0.4,\"#fde0ef\"],[0.5,\"#f7f7f7\"],[0.6,\"#e6f5d0\"],[0.7,\"#b8e186\"],[0.8,\"#7fbc41\"],[0.9,\"#4d9221\"],[1,\"#276419\"]]},\"xaxis\":{\"gridcolor\":\"white\",\"linecolor\":\"white\",\"ticks\":\"\",\"title\":{\"standoff\":15},\"zerolinecolor\":\"white\",\"automargin\":true,\"zerolinewidth\":2},\"yaxis\":{\"gridcolor\":\"white\",\"linecolor\":\"white\",\"ticks\":\"\",\"title\":{\"standoff\":15},\"zerolinecolor\":\"white\",\"automargin\":true,\"zerolinewidth\":2},\"scene\":{\"xaxis\":{\"backgroundcolor\":\"#E5ECF6\",\"gridcolor\":\"white\",\"linecolor\":\"white\",\"showbackground\":true,\"ticks\":\"\",\"zerolinecolor\":\"white\",\"gridwidth\":2},\"yaxis\":{\"backgroundcolor\":\"#E5ECF6\",\"gridcolor\":\"white\",\"linecolor\":\"white\",\"showbackground\":true,\"ticks\":\"\",\"zerolinecolor\":\"white\",\"gridwidth\":2},\"zaxis\":{\"backgroundcolor\":\"#E5ECF6\",\"gridcolor\":\"white\",\"linecolor\":\"white\",\"showbackground\":true,\"ticks\":\"\",\"zerolinecolor\":\"white\",\"gridwidth\":2}},\"shapedefaults\":{\"line\":{\"color\":\"#2a3f5f\"}},\"annotationdefaults\":{\"arrowcolor\":\"#2a3f5f\",\"arrowhead\":0,\"arrowwidth\":1},\"geo\":{\"bgcolor\":\"white\",\"landcolor\":\"#E5ECF6\",\"subunitcolor\":\"white\",\"showland\":true,\"showlakes\":true,\"lakecolor\":\"white\"},\"title\":{\"x\":0.05},\"mapbox\":{\"style\":\"light\"}}}},                        {\"responsive\": true}                    ).then(function(){\n",
       "                            \n",
       "var gd = document.getElementById('1174f1a4-79f2-45fb-896c-e252b4d686c3');\n",
       "var x = new MutationObserver(function (mutations, observer) {{\n",
       "        var display = window.getComputedStyle(gd).display;\n",
       "        if (!display || display === 'none') {{\n",
       "            console.log([gd, 'removed!']);\n",
       "            Plotly.purge(gd);\n",
       "            observer.disconnect();\n",
       "        }}\n",
       "}});\n",
       "\n",
       "// Listen for the removal of the full notebook cells\n",
       "var notebookContainer = gd.closest('#notebook-container');\n",
       "if (notebookContainer) {{\n",
       "    x.observe(notebookContainer, {childList: true});\n",
       "}}\n",
       "\n",
       "// Listen for the clearing of the current output cell\n",
       "var outputEl = gd.closest('.output');\n",
       "if (outputEl) {{\n",
       "    x.observe(outputEl, {childList: true});\n",
       "}}\n",
       "\n",
       "                        })                };                });            </script>        </div>"
      ]
     },
     "metadata": {},
     "output_type": "display_data"
    }
   ],
   "source": [
    "v1 = np.array([3, 5, 1])\n",
    "v2 = np.array([0, 2, 2])\n",
    "\n",
    "escalares = np.random.uniform(-4, 4, (100, 2))\n",
    "\n",
    "points = np.zeros((100, 3))\n",
    "for i in range(100):\n",
    "    points[i,:] += v1 * escalares[i, 0] + v2 * escalares[i, 1]\n",
    "    \n",
    "fig = go.Figure( data=[go.Scatter3d( x=points[:,0], y=points[:,1], z=points[:,2], mode='markers' )])\n",
    "\n",
    "fig.show()\n"
   ]
  }
 ],
 "metadata": {
  "kernelspec": {
   "display_name": "Python 3 (ipykernel)",
   "language": "python",
   "name": "python3"
  },
  "language_info": {
   "codemirror_mode": {
    "name": "ipython",
    "version": 3
   },
   "file_extension": ".py",
   "mimetype": "text/x-python",
   "name": "python",
   "nbconvert_exporter": "python",
   "pygments_lexer": "ipython3",
   "version": "3.9.13"
  }
 },
 "nbformat": 4,
 "nbformat_minor": 5
}
