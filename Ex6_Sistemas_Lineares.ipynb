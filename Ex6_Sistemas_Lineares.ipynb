{
 "cells": [
  {
   "cell_type": "markdown",
   "id": "707dbb97",
   "metadata": {},
   "source": [
    "# Ex6 - Sistemas Lineares - Ismael Marinho"
   ]
  },
  {
   "cell_type": "code",
   "execution_count": 8,
   "id": "35e5875a",
   "metadata": {},
   "outputs": [],
   "source": [
    "import numpy as np\n",
    "import scipy.linalg as sla"
   ]
  },
  {
   "cell_type": "markdown",
   "id": "25b58eb2",
   "metadata": {},
   "source": [
    "## Algoritmo 1"
   ]
  },
  {
   "cell_type": "code",
   "execution_count": 1,
   "id": "c0e694c0",
   "metadata": {},
   "outputs": [],
   "source": [
    "sist_lin_diag = lambda A, b: b/A.diagonal()"
   ]
  },
  {
   "cell_type": "markdown",
   "id": "5aedee40",
   "metadata": {},
   "source": [
    "## Algoritmo 1.2"
   ]
  },
  {
   "cell_type": "code",
   "execution_count": 72,
   "id": "561a3e16",
   "metadata": {},
   "outputs": [],
   "source": [
    "def sist_lin_tri_sup(A,b):\n",
    "    n = len(b)\n",
    "    x = np.empty(n)\n",
    "    x[-1] = b[-1]/A[-1, -1]\n",
    "    for i in range(n-2, -1, -1):\n",
    "        x[i] = (b[i] - np.sum(A[i, i+1:]*x[i+1:]))/A[i, i]\n",
    "    return x"
   ]
  },
  {
   "cell_type": "markdown",
   "id": "bc1d193d",
   "metadata": {},
   "source": [
    "## Algoritmo 1.3"
   ]
  },
  {
   "cell_type": "code",
   "execution_count": 4,
   "id": "bd7a798f",
   "metadata": {},
   "outputs": [],
   "source": [
    "def sist_lin_tri_inf(A,b):\n",
    "    n = len(b)\n",
    "    x = np.empty(n)\n",
    "    x[0] = b[0]/A[0, 0]\n",
    "    for i in range(1,n):\n",
    "        x[i] = (b[i] - np.sum(A[i,:i]*x[:i]))/A[i,i]\n",
    "    return x"
   ]
  },
  {
   "cell_type": "markdown",
   "id": "b2adddf9",
   "metadata": {},
   "source": [
    "## Exercicio 1\n",
    "### Classifique os sistemas abaixo com relação a quantidade e existência de soluções.\n",
    "### a)\n",
    "$x + 2y + 3z = 1$  \n",
    "$4x + 5y + 6z = 1$  \n",
    "$7x + 8y + 9z = 1$  \n",
    "\n",
    "### b)\n",
    "\n",
    "$2x + 3y = 10$  \n",
    "$−4x − 6y = −10$"
   ]
  },
  {
   "cell_type": "code",
   "execution_count": 14,
   "id": "e7b89d32",
   "metadata": {},
   "outputs": [
    {
     "data": {
      "text/plain": [
       "True"
      ]
     },
     "execution_count": 14,
     "metadata": {},
     "output_type": "execute_result"
    }
   ],
   "source": [
    "A = np.array([[1, 2, 3], [4, 5, 6], [7, 8, 9]])\n",
    "b = np.array([1, 1, 1])\n",
    "\n",
    "True if np.linalg.matrix_rank(A) == np.linalg.matrix_rank(np.c_[A, b]) else False"
   ]
  },
  {
   "cell_type": "code",
   "execution_count": 15,
   "id": "8eb45665",
   "metadata": {},
   "outputs": [
    {
     "data": {
      "text/plain": [
       "False"
      ]
     },
     "execution_count": 15,
     "metadata": {},
     "output_type": "execute_result"
    }
   ],
   "source": [
    "C = np.array([[2, 3], [-4, -6]])\n",
    "b = np.array([10, -10])\n",
    "\n",
    "True if np.linalg.matrix_rank(C) == np.linalg.matrix_rank(np.c_[C, b]) else False"
   ]
  },
  {
   "cell_type": "markdown",
   "id": "87c676d5",
   "metadata": {},
   "source": [
    "## Exercicio 1.2\n",
    "\n",
    "$3x_1 + 4x_2 − 5x_3 + x_4 = −10$  \n",
    "$x_2+ x_3 − 2x_4 = −1$  \n",
    "$4x_3 − 5x_4 = 3$  \n",
    "$2x_4 = 2$ "
   ]
  },
  {
   "cell_type": "code",
   "execution_count": 86,
   "id": "736cde90",
   "metadata": {},
   "outputs": [],
   "source": [
    "A = np.array([[3, 4, -5, 1],[0, 1, 1, -2],[0, 0, 4, -5],[0, 0, 0, 2]])\n",
    "b1 = np.array([-10, -1, 3, 2])"
   ]
  },
  {
   "cell_type": "markdown",
   "id": "901272f0",
   "metadata": {},
   "source": [
    "Primeiro devemos ver o tamanho do b que normalmente será o número de icógnitas(no sistema SPD) que iremos descobrir os valores."
   ]
  },
  {
   "cell_type": "code",
   "execution_count": 87,
   "id": "21e0ebed",
   "metadata": {},
   "outputs": [],
   "source": [
    "n = len(b1)"
   ]
  },
  {
   "cell_type": "markdown",
   "id": "5fa8ce6a",
   "metadata": {},
   "source": [
    "Criamos o vector que irá conter os valores que iremos descobrir das icógnitas."
   ]
  },
  {
   "cell_type": "code",
   "execution_count": 88,
   "id": "f3277992",
   "metadata": {},
   "outputs": [],
   "source": [
    "x = np.empty(n)"
   ]
  },
  {
   "cell_type": "markdown",
   "id": "ffc08e42",
   "metadata": {},
   "source": [
    "Iremos adicionar primariamente o valor do ultimo \"x\" / ultima icógnita, e com ela iremos ir substituindo gradativamente até encontrar todas os valores."
   ]
  },
  {
   "cell_type": "code",
   "execution_count": 89,
   "id": "1c9766f2",
   "metadata": {},
   "outputs": [],
   "source": [
    "x[-1] = b1[-1]/A[-1, -1]"
   ]
  },
  {
   "cell_type": "markdown",
   "id": "58da2313",
   "metadata": {},
   "source": [
    "Para substituir gradualmente pegamos os coeficientes daquela posicao para frente \"i + 1\" e multiplicamos pelo array/matriz do \"x\" daquela posição em diante também, depois somamos usando o método sum. E por fim pegamos o valor do \"b\" naquela posicao e subtraímos pela soma e dividimos pelo coeficiente daquela posicao."
   ]
  },
  {
   "cell_type": "code",
   "execution_count": 90,
   "id": "8678e365",
   "metadata": {},
   "outputs": [],
   "source": [
    "for i in range(n-2, -1, -1):\n",
    "    x[i] = (b1[i] - np.sum(A[i,i+1:]*x[i+1:]))/A[i,i]"
   ]
  },
  {
   "cell_type": "markdown",
   "id": "6c77ec01",
   "metadata": {},
   "source": [
    "Resultado:"
   ]
  },
  {
   "cell_type": "code",
   "execution_count": 91,
   "id": "83a1df77",
   "metadata": {},
   "outputs": [
    {
     "name": "stdout",
     "output_type": "stream",
     "text": [
      "[ 1. -1.  2.  1.]\n",
      "[-10.  -1.   3.   2.]\n"
     ]
    }
   ],
   "source": [
    "print(x)\n",
    "print(A.dot(x))"
   ]
  },
  {
   "cell_type": "markdown",
   "id": "c9c45f18",
   "metadata": {},
   "source": [
    "## Exercicio 1.3"
   ]
  },
  {
   "cell_type": "markdown",
   "id": "7ddf349c",
   "metadata": {},
   "source": [
    "$3x_1 = 4$  \n",
    "$2x_1 + x_2 = 2$  \n",
    "$x_1 + x_3 = 4$  \n",
    "$x_1 + x_2 + x_3 + x_4 = 2$  "
   ]
  },
  {
   "cell_type": "code",
   "execution_count": 92,
   "id": "40512a8d",
   "metadata": {},
   "outputs": [],
   "source": [
    "C = np.array([[3, 0, 0, 0],[2, 1, 0, 0],[1, 0, 1, 0],[1, 1, 1, 1]])\n",
    "b2 = np.array([4, 2, 4, 2])"
   ]
  },
  {
   "cell_type": "markdown",
   "id": "a5e02bb9",
   "metadata": {},
   "source": [
    "Assim como no Exemplo 1.2, devemos pegar o numero de icógnitas"
   ]
  },
  {
   "cell_type": "code",
   "execution_count": 93,
   "id": "1970b8de",
   "metadata": {},
   "outputs": [],
   "source": [
    "n = len(b2)"
   ]
  },
  {
   "cell_type": "markdown",
   "id": "377a8eeb",
   "metadata": {},
   "source": [
    "Criamos o vector que irá conter os valores que iremos descobrir das icógnitas."
   ]
  },
  {
   "cell_type": "code",
   "execution_count": 94,
   "id": "28284a42",
   "metadata": {},
   "outputs": [],
   "source": [
    "x = np.empty(n)"
   ]
  },
  {
   "cell_type": "markdown",
   "id": "41d91db8",
   "metadata": {},
   "source": [
    "Como a triangular é inferior iremos adicionar primariamente o valor do primeiro \"x\" / primeira icógnita."
   ]
  },
  {
   "cell_type": "code",
   "execution_count": 95,
   "id": "43c64575",
   "metadata": {},
   "outputs": [],
   "source": [
    "x[0] = b2[0]/C[0, 0]"
   ]
  },
  {
   "cell_type": "markdown",
   "id": "edb923d4",
   "metadata": {},
   "source": [
    "Para substituir gradualmente pegamos os coeficientes até aquela posicao e multiplicamos pelo array/matriz do \"x\" também até aquela posição, depois somamos usando o método sum. E por fim pegamos o valor do \"b\" naquela posicao e subtraímos pela soma e dividimos pelo coeficiente daquela posicao, assim como a triangular superior."
   ]
  },
  {
   "cell_type": "code",
   "execution_count": 96,
   "id": "7bab3c48",
   "metadata": {},
   "outputs": [],
   "source": [
    "for i in range(1,n):\n",
    "        x[i] = (b2[i] - np.sum(C[i,:i]*x[:i]))/C[i,i]"
   ]
  },
  {
   "cell_type": "markdown",
   "id": "891d013a",
   "metadata": {},
   "source": [
    "Resultado:"
   ]
  },
  {
   "cell_type": "code",
   "execution_count": 97,
   "id": "740812c7",
   "metadata": {},
   "outputs": [
    {
     "name": "stdout",
     "output_type": "stream",
     "text": [
      "[ 1.33333333 -0.66666667  2.66666667 -1.33333333]\n",
      "[4. 2. 4. 2.]\n"
     ]
    }
   ],
   "source": [
    "print(x)\n",
    "print(C.dot(x))"
   ]
  },
  {
   "cell_type": "markdown",
   "id": "b2d9ef50",
   "metadata": {},
   "source": [
    "## Exercicio 1.4"
   ]
  },
  {
   "cell_type": "markdown",
   "id": "677a5386",
   "metadata": {},
   "source": [
    "### Implemente uma função, cujos parâmetros de entrada sejam somente a matriz de coeficientes e o vetor de termos independentes e que calcule o vetor solução para qualquer um dos casos triviais vistos aqui. Atente para o fato de que a própria função terá de verificar se a matriz de coeficientes é diagonal, triangular superior ou inferior e não o usuário."
   ]
  },
  {
   "cell_type": "code",
   "execution_count": 98,
   "id": "e1da23b8",
   "metadata": {},
   "outputs": [],
   "source": [
    "def linear_trivial(A, b):\n",
    "    if (A == np.tril(A)).all():\n",
    "        return sist_lin_tri_inf(A,b)\n",
    "    elif (A == np.triu(A)).all():\n",
    "        return sist_lin_tri_sup(A,b)\n",
    "    else:\n",
    "        return sist_lin_diag(A, b)"
   ]
  },
  {
   "cell_type": "code",
   "execution_count": 99,
   "id": "c90be1ca",
   "metadata": {},
   "outputs": [
    {
     "name": "stdout",
     "output_type": "stream",
     "text": [
      "[ 1. -1.  2.  1.]\n",
      "[ 1.33333333 -0.66666667  2.66666667 -1.33333333]\n"
     ]
    }
   ],
   "source": [
    "print(linear_trivial(A, b1))\n",
    "print(linear_trivial(C, b2))"
   ]
  }
 ],
 "metadata": {
  "kernelspec": {
   "display_name": "Python 3 (ipykernel)",
   "language": "python",
   "name": "python3"
  },
  "language_info": {
   "codemirror_mode": {
    "name": "ipython",
    "version": 3
   },
   "file_extension": ".py",
   "mimetype": "text/x-python",
   "name": "python",
   "nbconvert_exporter": "python",
   "pygments_lexer": "ipython3",
   "version": "3.9.13"
  }
 },
 "nbformat": 4,
 "nbformat_minor": 5
}
