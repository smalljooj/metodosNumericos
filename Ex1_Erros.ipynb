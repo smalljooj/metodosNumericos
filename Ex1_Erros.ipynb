{
 "cells": [
  {
   "cell_type": "markdown",
   "id": "f1105c0f",
   "metadata": {},
   "source": [
    "# Ex1_Erros - Ismael Marinho"
   ]
  },
  {
   "cell_type": "code",
   "execution_count": 1,
   "id": "172f6e58",
   "metadata": {},
   "outputs": [],
   "source": [
    "import numpy as np\n",
    "import matplotlib.pyplot as plt"
   ]
  },
  {
   "cell_type": "markdown",
   "id": "699caa1c",
   "metadata": {},
   "source": [
    "### Exercício 1.1 \n",
    "\n",
    "### O método “divisão e média”, um método antigo para estimação de raiz quadrada de um número positivo a, pode ser formulado como: Xi = (Xi + a/Xi)/2.  \n",
    "### Calcule o erro relativo da aproximação para as 10 primeiras iterações"
   ]
  },
  {
   "cell_type": "code",
   "execution_count": 2,
   "id": "fd688502",
   "metadata": {},
   "outputs": [
    {
     "name": "stdout",
     "output_type": "stream",
     "text": [
      "1.5700924586837748e-14\n"
     ]
    }
   ],
   "source": [
    "a = 2\n",
    "\n",
    "value = np.float64(np.sqrt(a))\n",
    "value_aprox = np.float64(1)\n",
    "\n",
    "for i in range(10):\n",
    "    value_aprox = (value_aprox + a/value_aprox)/2\n",
    "    \n",
    "    \n",
    "print(abs(value - value_aprox)/value * 100)"
   ]
  },
  {
   "cell_type": "markdown",
   "id": "8e2b5268",
   "metadata": {},
   "source": [
    "###  Exercício \n",
    "\n",
    "### 1.2 Para computadores, o épsilon da máquina, ε, pode ser definido como o menor número que, adicionado a um, retorna um número maior que um, como definimos anteriormente. Usando o algoritmo abaixo, implemente um programa que calcula o épsilon da sua máquina. Compare com os resultados obtidos via numpy."
   ]
  },
  {
   "cell_type": "code",
   "execution_count": 3,
   "id": "865b7778",
   "metadata": {},
   "outputs": [
    {
     "name": "stdout",
     "output_type": "stream",
     "text": [
      "2.220446049250313e-16\n",
      "2.220446049250313e-16\n"
     ]
    }
   ],
   "source": [
    "e = np.float64(1)\n",
    "\n",
    "while(not(e + 1 <= 1)):\n",
    "    e = e/2\n",
    "e *= 2\n",
    "\n",
    "print(e)\n",
    "print(np.finfo(dtype=np.float64).eps)"
   ]
  },
  {
   "cell_type": "markdown",
   "id": "b5f86209",
   "metadata": {},
   "source": [
    "### Exercício 1.3 \n",
    "\n",
    "### Observe que x^(1) = 1/3, x^(2) = 4*1/3 - 1, x^(3) = 4*1/3 - 1, e por aí vai, ou seja, temos uma sequência constante igual a 1/3. Implemente essa série iterativa, verificando se a convergência de fato ocorre e justifique o resultado obtido"
   ]
  },
  {
   "cell_type": "code",
   "execution_count": 4,
   "id": "f29f20f6",
   "metadata": {},
   "outputs": [
    {
     "name": "stdout",
     "output_type": "stream",
     "text": [
      "0.33333333333333326\n",
      "0.33333333333333304\n",
      "0.33333333333333215\n",
      "0.3333333333333286\n",
      "0.3333333333333144\n"
     ]
    }
   ],
   "source": [
    "x = 1/3\n",
    "\n",
    "for i in range(5):\n",
    "    x = 4*x -1\n",
    "    print(x)"
   ]
  },
  {
   "cell_type": "markdown",
   "id": "b6e4b159",
   "metadata": {},
   "source": [
    "Sim ela converge, porque 4 * 1/3 - 1 resulta em 1/3, e na proxima iteração como o resultado da ultima permaneceu \"o mesmo\", vai ficar retornando 1/3 para sempre. Porém gera algumas diferenças por ser calculado no computador."
   ]
  },
  {
   "cell_type": "markdown",
   "id": "ea21b73d",
   "metadata": {},
   "source": [
    "### Exercício 1.4 \n",
    "\n",
    "### Considere as expressões: exp(1/u) / 1 + exp(1/u) e 1 / exp(-1/u) + 1 com µ > 0. Verifique que elas são idênticas como funções reais. Teste no computador cada uma delas para µ = 0, 1, µ = 0, 01, µ = 0, 001 ou menor e responda: Qual dessas expressões é mais adequada quando µ é um número pequeno? Por quê?"
   ]
  },
  {
   "cell_type": "code",
   "execution_count": 5,
   "id": "9706999f",
   "metadata": {},
   "outputs": [
    {
     "name": "stdout",
     "output_type": "stream",
     "text": [
      "0.9999546021312976\n",
      "0.9999546021312976\n"
     ]
    }
   ],
   "source": [
    "u = 0.1\n",
    "\n",
    "print(np.exp(1/u) / (1 + np.exp(1/u)))\n",
    "print(1 / (np.exp(-1/u) + 1))"
   ]
  },
  {
   "cell_type": "markdown",
   "id": "4dd0b010",
   "metadata": {},
   "source": [
    "A de baixo é mais adequeada pois evita o cancelamento catastrófico."
   ]
  },
  {
   "cell_type": "markdown",
   "id": "4300412b",
   "metadata": {},
   "source": [
    "### Exercício 1.5 Observe a seguinte identidade: f(x) = ((1 + x) - 1)x\n",
    "\n",
    "### Não é muito difícil verificar, analiticamente, que, para qualquer valor de x, sempre teremos f(x) = 1. Faça um programa que calcule o valor da expressão para x = 10^(−12) , x = 10^(−15) e x = 10^(−17). Compare os resultados com o resultado analítico e explique-os."
   ]
  },
  {
   "cell_type": "code",
   "execution_count": 6,
   "id": "8ca27a4e",
   "metadata": {},
   "outputs": [
    {
     "name": "stdout",
     "output_type": "stream",
     "text": [
      "0.999999993922529\n",
      "1.000088900582341\n",
      "1.1102230246251565\n",
      "0.0\n"
     ]
    }
   ],
   "source": [
    "print(((1 + 10**(-8)) - 1) / 10**(-8))\n",
    "\n",
    "print(((1 + 10**(-12)) - 1) / 10**(-12))\n",
    "print(((1 + 10**(-15)) - 1) / 10**(-15))\n",
    "print(((1 + 10**(-17)) - 1) / 10**(-17))"
   ]
  },
  {
   "cell_type": "markdown",
   "id": "56f82c39",
   "metadata": {},
   "source": [
    "Quando menor for o número mais erro irá ocasionar por causa do arredondamento. Inclusive com 10^-17, o valor é tão pequeno que quando soma e retira 1, fica igual a 0, e zero dividido por 10^-17 é 0."
   ]
  },
  {
   "cell_type": "code",
   "execution_count": 7,
   "id": "ecec114c",
   "metadata": {},
   "outputs": [
    {
     "data": {
      "text/plain": [
       "0.0"
      ]
     },
     "execution_count": 7,
     "metadata": {},
     "output_type": "execute_result"
    }
   ],
   "source": [
    "(1 + 10**(-17)) - 1"
   ]
  },
  {
   "cell_type": "markdown",
   "id": "7e6b1031",
   "metadata": {},
   "source": [
    "### Exercício 1.6\n",
    "\n",
    "### Existem diferentes métodos para calcular aproximadamente o valor de π computacionalmente. Vários desses métodos usam a aproximação por séries de Taylor para o arcotangente, definida por: arctan(x) = x - x^3/3 + x^5/5 - x^7/7 + ..."
   ]
  },
  {
   "cell_type": "code",
   "execution_count": 8,
   "id": "7656c31c",
   "metadata": {},
   "outputs": [],
   "source": [
    "def serie_taylor(x, amostragem):\n",
    "    value = 0;\n",
    "\n",
    "    for i in range(amostragem):\n",
    "        value += pow(x, 2*i+1)/(2*i+1) * pow(-1, i);\n",
    "\n",
    "    return value;\n"
   ]
  },
  {
   "cell_type": "markdown",
   "id": "8d922d0d",
   "metadata": {},
   "source": [
    "a) Fórmula de Machin"
   ]
  },
  {
   "cell_type": "code",
   "execution_count": 9,
   "id": "e0d4f5f2",
   "metadata": {},
   "outputs": [
    {
     "data": {
      "text/plain": [
       "<function matplotlib.pyplot.show(close=None, block=None)>"
      ]
     },
     "execution_count": 9,
     "metadata": {},
     "output_type": "execute_result"
    },
    {
     "data": {
      "image/png": "[encoded data removed]",
      "text/plain": [
       "<Figure size 640x480 with 1 Axes>"
      ]
     },
     "metadata": {},
     "output_type": "display_data"
    }
   ],
   "source": [
    "amostragem = np.arange(1, 22, 1)\n",
    "erros_m = list()\n",
    "\n",
    "for i in amostragem:\n",
    "    machin = (4*(4*serie_taylor(0.2, i) - serie_taylor(1/239.0, i)))\n",
    "    erros_m.append(abs(machin - np.pi)/machin * 100)\n",
    "    \n",
    "plt.plot(erros_m, linestyle = 'dashed')\n",
    "plt.show"
   ]
  },
  {
   "cell_type": "markdown",
   "id": "d1c7bed1",
   "metadata": {},
   "source": [
    "b) Fórmula de Hutton"
   ]
  },
  {
   "cell_type": "code",
   "execution_count": 10,
   "id": "ed3909d9",
   "metadata": {},
   "outputs": [
    {
     "data": {
      "text/plain": [
       "<function matplotlib.pyplot.show(close=None, block=None)>"
      ]
     },
     "execution_count": 10,
     "metadata": {},
     "output_type": "execute_result"
    },
    {
     "data": {
      "image/png": "[encoded data removed]",
      "text/plain": [
       "<Figure size 640x480 with 1 Axes>"
      ]
     },
     "metadata": {},
     "output_type": "display_data"
    }
   ],
   "source": [
    "amostragem = np.arange(1, 22, 1)\n",
    "erros_h = list()\n",
    "\n",
    "for i in amostragem:\n",
    "    hutton = 4*(serie_taylor(0.5, i) + serie_taylor(1/3, i))\n",
    "    erros_h.append(abs(hutton - np.pi)/hutton * 100)\n",
    "    \n",
    "plt.plot(erros_h, linestyle = 'dashed')\n",
    "plt.show"
   ]
  },
  {
   "cell_type": "markdown",
   "id": "268bf83a",
   "metadata": {},
   "source": []
  },
  {
   "cell_type": "markdown",
   "id": "0459928d",
   "metadata": {},
   "source": [
    "c) Fórmula de Clausen"
   ]
  },
  {
   "cell_type": "code",
   "execution_count": 11,
   "id": "6ece678e",
   "metadata": {},
   "outputs": [
    {
     "data": {
      "text/plain": [
       "<function matplotlib.pyplot.show(close=None, block=None)>"
      ]
     },
     "execution_count": 11,
     "metadata": {},
     "output_type": "execute_result"
    },
    {
     "data": {
      "image/png": "[encoded data removed]",
      "text/plain": [
       "<Figure size 640x480 with 1 Axes>"
      ]
     },
     "metadata": {},
     "output_type": "display_data"
    }
   ],
   "source": [
    "amostragem = np.arange(1, 22, 1)\n",
    "erros_c = list()\n",
    "\n",
    "for i in amostragem:\n",
    "    clausen = 4*(2*serie_taylor(1/3, i) + serie_taylor(1/7, i))\n",
    "    erros_c.append(abs(clausen - np.pi)/clausen * 100)\n",
    "\n",
    "plt.plot(erros_c, linestyle = 'dashed')\n",
    "plt.show"
   ]
  },
  {
   "cell_type": "markdown",
   "id": "057beeb5",
   "metadata": {},
   "source": [
    "d) Fórmula de Dase"
   ]
  },
  {
   "cell_type": "code",
   "execution_count": 12,
   "id": "f87bf48a",
   "metadata": {},
   "outputs": [
    {
     "data": {
      "text/plain": [
       "<function matplotlib.pyplot.show(close=None, block=None)>"
      ]
     },
     "execution_count": 12,
     "metadata": {},
     "output_type": "execute_result"
    },
    {
     "data": {
      "image/png": "[encoded data removed]",
      "text/plain": [
       "<Figure size 640x480 with 1 Axes>"
      ]
     },
     "metadata": {},
     "output_type": "display_data"
    }
   ],
   "source": [
    "amostragem = np.arange(1, 22, 1)\n",
    "erros_d = list()\n",
    "\n",
    "for i in amostragem:\n",
    "    dase = 4*(serie_taylor(0.5, i) + serie_taylor(1/5, i) + serie_taylor(1/8, i))\n",
    "    erros_d.append(abs(dase - np.pi)/dase * 100)\n",
    "\n",
    "plt.plot(erros_d, linestyle = 'dashed')\n",
    "plt.show"
   ]
  },
  {
   "cell_type": "markdown",
   "id": "9f58be3a",
   "metadata": {},
   "source": [
    "Quanto maior o número de amostragem, menor vai ficando o erro relativo, chegando a ficar muito próximo do zero. Alguns algoritmos com menas amostragem conseguem valores melhores que os outros como o de \"Machin\", que atingiu um valor muito baixo em apenas 3 amostras.(valor = 0.0009) "
   ]
  }
 ],
 "metadata": {
  "kernelspec": {
   "display_name": "Python 3 (ipykernel)",
   "language": "python",
   "name": "python3"
  },
  "language_info": {
   "codemirror_mode": {
    "name": "ipython",
    "version": 3
   },
   "file_extension": ".py",
   "mimetype": "text/x-python",
   "name": "python",
   "nbconvert_exporter": "python",
   "pygments_lexer": "ipython3",
   "version": "3.9.13"
  }
 },
 "nbformat": 4,
 "nbformat_minor": 5
}
