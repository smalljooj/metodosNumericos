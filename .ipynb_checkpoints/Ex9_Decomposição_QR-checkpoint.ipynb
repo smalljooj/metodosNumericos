{
 "cells": [
  {
   "cell_type": "markdown",
   "id": "ba4b2ad7",
   "metadata": {},
   "source": [
    "# Ex9 - Decomposição QR - Ismael Marinho"
   ]
  },
  {
   "cell_type": "code",
   "execution_count": null,
   "id": "fa6cbae1",
   "metadata": {},
   "outputs": [],
   "source": [
    "import numpy as np\n",
    "import scipy.linalg as sla\n",
    "import matplotlib.pyplot as plt"
   ]
  },
  {
   "cell_type": "markdown",
   "id": "18d6733e",
   "metadata": {},
   "source": [
    "## Exercício 9.4"
   ]
  },
  {
   "cell_type": "code",
   "execution_count": null,
   "id": "e7815584",
   "metadata": {},
   "outputs": [],
   "source": [
    "def oldSchoolInv(m):\n",
    "    minors = np.array(m)\n",
    "    grid = np.array(m)\n",
    "    for i in range(len(m)):\n",
    "        for j in range(len(m[0])):\n",
    "            temp = np.delete(m, i, 0)\n",
    "            temp = np.delete(temp, j, 1)\n",
    "            minors[i][j] = sla.det(temp)\n",
    "\n",
    "    for i in range(1, len(m) + 1):\n",
    "        for j in range(1, len(m[0]) + 1):\n",
    "            grid[i-1][j-1] = (-1)**(i + j)\n",
    "    cofactors = minors * grid\n",
    "    return cofactors.T * 1/(sla.det(m))"
   ]
  },
  {
   "cell_type": "code",
   "execution_count": null,
   "id": "b4314448",
   "metadata": {},
   "outputs": [],
   "source": [
    "n = 5\n",
    "A = np.random.randn(n,n)\n",
    "\n",
    "inv_o = oldSchoolInv(A)\n",
    "m_o  = inv_o @ A\n",
    "\n",
    "Q, R = np.linalg.qr(A)\n",
    "inv_qr = sla.inv(R) @ Q.T\n",
    "m_qr  = inv_qr @ A\n",
    "\n",
    "\n",
    "\n",
    "ident = np.eye(n)\n",
    "erro = [0,0] \n",
    "erro[0] = np.sqrt(np.sum((m_o - ident)**2))\n",
    "erro[1] = np.sqrt(np.sum((m_qr - ident )**2))\n",
    "\n",
    "plt.bar([0, 1], erro, color = [.3,.2,.4])\n",
    "plt.xticks([0, 1], labels = ['OldSchool','QR'])\n",
    "\n",
    "plt.title(f'Inverse error ({n}x{n} matrix)', ha = 'center')\n",
    "plt.show()"
   ]
  },
  {
   "cell_type": "markdown",
   "id": "a6f4df87",
   "metadata": {},
   "source": [
    "## Exercício 9.5"
   ]
  },
  {
   "cell_type": "code",
   "execution_count": null,
   "id": "9b943545",
   "metadata": {},
   "outputs": [],
   "source": [
    "n = 5\n",
    "\n",
    "erro = np.zeros((100,2))\n",
    "\n",
    "for i in range(100):\n",
    "\n",
    "    A = np.random.randn(n,n)\n",
    "\n",
    "    inv_o = oldSchoolInv(A)\n",
    "    m_o  = inv_o @ A\n",
    "\n",
    "    Q,R = np.linalg.qr(A)\n",
    "    inv_qr = sla.inv(R)@ Q.T \n",
    "\n",
    "    m_qr  = inv_qr @ A\n",
    "\n",
    "    ident = np.eye(n)\n",
    "    erro[i, 0] = np.sqrt(np.sum((m_o - ident)**2))\n",
    "    erro[i, 1] = np.sqrt(np.sum((m_qr - ident )**2))\n",
    "\n",
    "\n",
    "plt.figure(figsize=(6,6))\n",
    "\n",
    "plt.plot(np.zeros(100), erro[:,0], 'ko')\n",
    "plt.plot(np.ones(100), erro[:,1], 'ko')\n",
    "plt.bar(range(2), np.mean(erro, axis=0), color=[.7,.7,.7])\n",
    "\n",
    "plt.xticks(range(2),labels=['OldSchool','QR'])\n",
    "plt.ylim([0, np.max(erro)*1.1])\n",
    "\n",
    "plt.title(f'Inverse error ({n}x{n} matrix)', ha='center')\n",
    "plt.show()"
   ]
  },
  {
   "cell_type": "code",
   "execution_count": null,
   "id": "1288ba6a",
   "metadata": {},
   "outputs": [],
   "source": []
  }
 ],
 "metadata": {
  "kernelspec": {
   "display_name": "Python 3 (ipykernel)",
   "language": "python",
   "name": "python3"
  },
  "language_info": {
   "codemirror_mode": {
    "name": "ipython",
    "version": 3
   },
   "file_extension": ".py",
   "mimetype": "text/x-python",
   "name": "python",
   "nbconvert_exporter": "python",
   "pygments_lexer": "ipython3",
   "version": "3.9.13"
  }
 },
 "nbformat": 4,
 "nbformat_minor": 5
}
