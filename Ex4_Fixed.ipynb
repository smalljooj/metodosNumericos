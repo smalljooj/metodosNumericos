{
 "cells": [
  {
   "cell_type": "markdown",
   "id": "ffaaa2bb",
   "metadata": {},
   "source": [
    "# Ex4 - Ismael Marinho Rocha"
   ]
  },
  {
   "cell_type": "code",
   "execution_count": 2,
   "id": "d75b33aa",
   "metadata": {},
   "outputs": [],
   "source": [
    "import numpy as np\n",
    "import matplotlib.pyplot as plt"
   ]
  },
  {
   "cell_type": "markdown",
   "id": "67e10742",
   "metadata": {},
   "source": [
    "## 1_ Implemente os algoritmos da iteração de ponto fixo, Newton-Raphson e secante usando somente a biblioteca Numpy."
   ]
  },
  {
   "cell_type": "code",
   "execution_count": 3,
   "id": "d57ced82",
   "metadata": {},
   "outputs": [],
   "source": [
    "def bisseccao(f, a, b, it = -1, r = 0, e = 1e-6):\n",
    "    x = 0\n",
    "    x_prev = a\n",
    "    err = 1\n",
    "    i = 0\n",
    "    \n",
    "    if np.sign(f(a)) * np.sign(f(b)) != -1:\n",
    "            return False\n",
    "    \n",
    "    while err > e:\n",
    "        \n",
    "        if it != -1:\n",
    "            if it == i:\n",
    "                break\n",
    "        \n",
    "        x = (a + b) / 2\n",
    "        if f(x) == r:\n",
    "            return (x, i)\n",
    "        elif np.sign(f(a)) * np.sign(f(x)) == -1:\n",
    "            b = x\n",
    "        else:\n",
    "            a = x   \n",
    "        err = np.abs(x - x_prev)/np.abs(x)\n",
    "        x_prev = x\n",
    "        i += 1\n",
    "    \n",
    "    return (x, i)\n",
    "\n",
    "def fixed_point(f, x, it = -1, e = 1e-5):\n",
    "    err = 1\n",
    "    x_prev = 0\n",
    "    i = 0\n",
    "    \n",
    "    while(err > e):\n",
    "        \n",
    "        if it != -1:\n",
    "            if it == i:\n",
    "                return (x, i)\n",
    "        \n",
    "        x_prev = x\n",
    "        x = f(x)\n",
    "        err = np.abs(x - x_prev)/np.abs(x)\n",
    "        i += 1\n",
    "    return (x, i)\n",
    "\n",
    "def newton_raphson(f, fd, x, it = -1, e = 1e-12):\n",
    "    err = 1\n",
    "    x_prev = x\n",
    "    i = 0\n",
    "    \n",
    "    while(err > e):\n",
    "        \n",
    "        if it != -1:\n",
    "            if it == i:\n",
    "                return (x, i)\n",
    "        \n",
    "        x_prev = x\n",
    "        x = x - (f(x)/fd(x))\n",
    "        err = np.abs(x - x_prev)/np.abs(x)\n",
    "        i += 1\n",
    "    return (x, i)\n",
    "\n",
    "def metodo_secante(f, x, xo, it = -1, e = 1e-12):\n",
    "    \n",
    "    err = 1\n",
    "    i = 0\n",
    "    x_f = x\n",
    "    \n",
    "    while(err > e):\n",
    "        \n",
    "        if it != -1:\n",
    "            if it == i:\n",
    "                return (x, i)\n",
    "        \n",
    "        x_f = x - (f(x)*(xo - x))/(f(xo) - f(x))\n",
    "        xo = x\n",
    "        x = x_f\n",
    "        \n",
    "        err = np.abs(x - xo)/np.abs(x)  \n",
    "        i += 1\n",
    "    return (x_f, i)"
   ]
  },
  {
   "cell_type": "markdown",
   "id": "df4a6b2f",
   "metadata": {},
   "source": [
    "## 2. Use a iteração de ponto fixo simples para localizar a raiz de $f(x) = 2 sin(√x)− x$, tendo x0 = 0, 5 e adotando como critério de parada o erro e ≤ 0, 001%."
   ]
  },
  {
   "cell_type": "code",
   "execution_count": 4,
   "id": "09817e95",
   "metadata": {},
   "outputs": [
    {
     "data": {
      "text/plain": [
       "(1.9723804860817313, 8)"
      ]
     },
     "execution_count": 4,
     "metadata": {},
     "output_type": "execute_result"
    }
   ],
   "source": [
    "f = lambda x: 2 * np.sin(np.sqrt(x)) \n",
    "\n",
    "fixed_point(f, 0.5, -1, 1e-5)"
   ]
  },
  {
   "cell_type": "markdown",
   "id": "f6c2d022",
   "metadata": {},
   "source": [
    "## 3. Determine a maior raiz real de $f(x) = 2x^3 − 11.7x^2 + 17.7x − 5$"
   ]
  },
  {
   "cell_type": "code",
   "execution_count": 4,
   "id": "31c20c43",
   "metadata": {},
   "outputs": [],
   "source": [
    "f = lambda x: 2*x**3 - 11.7*x**2 + 17.7*x - 5\n",
    "fp = lambda x: -(2*x**3 - 11.7*x**2 - 5)/17.7\n",
    "fd = lambda x: 6*x**2 - 23.5*x + 17.7"
   ]
  },
  {
   "cell_type": "markdown",
   "id": "57ca9750",
   "metadata": {},
   "source": [
    "#### (a) Graficamente."
   ]
  },
  {
   "cell_type": "code",
   "execution_count": 5,
   "id": "cfd08fc6",
   "metadata": {},
   "outputs": [
    {
     "data": {
      "text/plain": [
       "[<matplotlib.lines.Line2D at 0x1752f568a60>,\n",
       " <matplotlib.lines.Line2D at 0x1752eebb9a0>]"
      ]
     },
     "execution_count": 5,
     "metadata": {},
     "output_type": "execute_result"
    },
    {
     "data": {
      "image/png": "[encoded data removed]",
      "text/plain": [
       "<Figure size 640x480 with 1 Axes>"
      ]
     },
     "metadata": {},
     "output_type": "display_data"
    }
   ],
   "source": [
    "x = np.linspace(0, 4, 30)  \n",
    "\n",
    "plt.grid()\n",
    "plt.plot(x, f(x), [bisseccao(f, 3, 4)[0], bisseccao(f, 3, 4)[0]], [0,0], 'ro')  "
   ]
  },
  {
   "cell_type": "markdown",
   "id": "36f24d43",
   "metadata": {},
   "source": [
    "#### (b) Pelo método da iteração de ponto fixo (três iterações, x0 = 3)( certifique-se de desenvolver uma solução que convirja para a raiz)"
   ]
  },
  {
   "cell_type": "code",
   "execution_count": 6,
   "id": "7cbc1ac3",
   "metadata": {},
   "outputs": [
    {
     "data": {
      "text/plain": [
       "(3.442543246990202, 3)"
      ]
     },
     "execution_count": 6,
     "metadata": {},
     "output_type": "execute_result"
    }
   ],
   "source": [
    "fixed_point(fp, 3, 3)"
   ]
  },
  {
   "cell_type": "markdown",
   "id": "11dc09f5",
   "metadata": {},
   "source": [
    "#### (c) Pelo método de Newton-Raphson (três iterações, x0 = 3)"
   ]
  },
  {
   "cell_type": "code",
   "execution_count": 7,
   "id": "76f733a7",
   "metadata": {},
   "outputs": [
    {
     "data": {
      "text/plain": [
       "(3.9483607355126975, 3)"
      ]
     },
     "execution_count": 7,
     "metadata": {},
     "output_type": "execute_result"
    }
   ],
   "source": [
    "newton_raphson(f, fd, 3, 3)"
   ]
  },
  {
   "cell_type": "markdown",
   "id": "bef47d56",
   "metadata": {},
   "source": [
    "#### (d) Pelo método da secante (três iterações, x−1 = 3, x0 = 4)"
   ]
  },
  {
   "cell_type": "code",
   "execution_count": 8,
   "id": "e57e37dc",
   "metadata": {},
   "outputs": [
    {
     "data": {
      "text/plain": [
       "(3.5037095168646224, 3)"
      ]
     },
     "execution_count": 8,
     "metadata": {},
     "output_type": "execute_result"
    }
   ],
   "source": [
    "metodo_secante(f, 3, 4, 3)"
   ]
  },
  {
   "cell_type": "markdown",
   "id": "5956714a",
   "metadata": {},
   "source": [
    "## 4. Compare os métodos da bisseção, falsa posição, do ponto fixo, de Newton-Raphson e da secante, localizando a raiz das seguintes equações:\n"
   ]
  },
  {
   "cell_type": "markdown",
   "id": "65ac98fe",
   "metadata": {},
   "source": [
    "#### (a) $f1 (x) = 2x^4 + 4x^3 + 3x^2 − 10x − 15$, com x∗ ∈ [0, 3]\n"
   ]
  },
  {
   "cell_type": "code",
   "execution_count": 7,
   "id": "ea61eebb",
   "metadata": {},
   "outputs": [
    {
     "name": "stdout",
     "output_type": "stream",
     "text": [
      "(-1.300384283065796, 22)\n",
      "(-1.3003841326707946, 35)\n",
      "(-1.3003841326439198, 6)\n",
      "(-1.3003841326439198, 9)\n"
     ]
    }
   ],
   "source": [
    "f = lambda x: 2*x**4 + 4*x**3 + 3*x**2 - 10*x - 15\n",
    "fp = lambda x: (2*x**4 + 4*x**3 + 3*x**2 - 15)/10\n",
    "fd = lambda x: 8*x**3 + 12*x**2 + 6*x - 10\n",
    "\n",
    "print(bisseccao(f, 0, -3, 200, 1e-10))\n",
    "print(fixed_point(fp, 0, 200, 1e-10))\n",
    "print(newton_raphson(f, fd, 0, 200, 1e-10))\n",
    "print(metodo_secante(f, 0, 3, 200, 1e-10))"
   ]
  },
  {
   "cell_type": "markdown",
   "id": "1577c15b",
   "metadata": {},
   "source": [
    "#### (b) $f2(x) = (x + 3)(x + 1)(x − 2)^3$, com x∗ ∈ [0, 5]\n"
   ]
  },
  {
   "cell_type": "code",
   "execution_count": 8,
   "id": "2bdd38d4",
   "metadata": {},
   "outputs": [
    {
     "name": "stdout",
     "output_type": "stream",
     "text": [
      "(2.0000064373016357, 22)\n",
      "(2.0822134585147825, 200)\n",
      "(1.999992797247646, 48)\n"
     ]
    }
   ],
   "source": [
    "f = lambda x: x**5 - 2*x**4 - 9*x**3 + 22*x**2 + 4*x -24\n",
    "#fp = lambda x: \n",
    "fd = lambda x: 5*x**4 - 8*x**3 - 18*x**2 + 44*x + 4\n",
    "\n",
    "print(bisseccao(f, 0, 5, 200, 1e-10))\n",
    "#print(fixed_point(fp, 5, 200, 1e-10))\n",
    "print(newton_raphson(f, fd, 0, 200, 1e-10))\n",
    "print(metodo_secante(f, 0, 5, 200, 1e-10))"
   ]
  },
  {
   "cell_type": "markdown",
   "id": "f1ed55e4",
   "metadata": {},
   "source": [
    "#### (c) $f3(x) = 5x^3 + x^2 − e^{1−2x} + cos(x) + 20$, com x∗ ∈ [−5, 5]"
   ]
  },
  {
   "cell_type": "code",
   "execution_count": 18,
   "id": "4668b7be",
   "metadata": {},
   "outputs": [
    {
     "name": "stdout",
     "output_type": "stream",
     "text": [
      "(-0.9295600652694702, 24)\n",
      "(inf, 6)\n",
      "(-0.9295604598378413, 13)\n",
      "(-0.9295604598378413, 24)\n"
     ]
    },
    {
     "name": "stderr",
     "output_type": "stream",
     "text": [
      "C:\\Users\\ismae\\AppData\\Local\\Temp\\ipykernel_4664\\1327295873.py:23: RuntimeWarning: divide by zero encountered in double_scalars\n",
      "  err = np.abs(x - x_prev)/np.abs(x)\n",
      "C:\\Users\\ismae\\AppData\\Local\\Temp\\ipykernel_4664\\1857097682.py:2: RuntimeWarning: overflow encountered in double_scalars\n",
      "  fp = lambda x: 5*x**3 + x**2 - np.exp(1 - 2*x) + np.cos(x) + 20 + x\n",
      "C:\\Users\\ismae\\AppData\\Local\\Temp\\ipykernel_4664\\1327295873.py:42: RuntimeWarning: invalid value encountered in double_scalars\n",
      "  err = np.abs(x - x_prev)/np.abs(x)\n"
     ]
    }
   ],
   "source": [
    "f = lambda x: 5*x**3 + x**2 - np.exp(1 - 2*x) + np.cos(x) + 20\n",
    "#fp = lambda x: \n",
    "fd = lambda x: 15*x**2 + 2*x + np.exp(1 - 2*x)*2 - np.sin(x)\n",
    "\n",
    "print(bisseccao(f, -5, 5, 200, 1e-10))\n",
    "#print(fixed_point(fp, 0, 200, 1e-10))\n",
    "print(newton_raphson(f, fd, -5, 200, 1e-10))\n",
    "print(metodo_secante(f, -5, 5, 200, 1e-10))"
   ]
  },
  {
   "cell_type": "markdown",
   "id": "55eeb08b",
   "metadata": {},
   "source": [
    "#### (d) $f4(x) = sin(x)x + 4$, com x∗ ∈ [1, 5]"
   ]
  },
  {
   "cell_type": "code",
   "execution_count": 15,
   "id": "d7b5aed9",
   "metadata": {},
   "outputs": [
    {
     "name": "stdout",
     "output_type": "stream",
     "text": [
      "(4.323238372802734, 20)\n",
      "(4.689070677280189, 200)\n",
      "(5.461308012588998, 7)\n",
      "(4.323239543713715, 7)\n"
     ]
    }
   ],
   "source": [
    "f = lambda x: np.sin(x)*x + 4\n",
    "fp = lambda x: x + np.sin(x)*x + 4\n",
    "fd = lambda x: x*np.cos(x) + np.sin(x)\n",
    "\n",
    "print(bisseccao(f, 1, 5, 200, 1e-10))\n",
    "print(fixed_point(fp, 1, 200, 1e-10))\n",
    "print(newton_raphson(f, fd, 5, 200, 1e-10))\n",
    "print(metodo_secante(f, 1, 5, 200, 1e-10))"
   ]
  },
  {
   "cell_type": "markdown",
   "id": "69160d59",
   "metadata": {},
   "source": [
    "#### (e) $f5(x) = (x − 3)^5ln(x)$, com x∗ ∈ [2, 5]"
   ]
  },
  {
   "cell_type": "code",
   "execution_count": 20,
   "id": "72a1880d",
   "metadata": {},
   "outputs": [
    {
     "name": "stdout",
     "output_type": "stream",
     "text": [
      "(2.9999990463256836, 20)\n",
      "(2.9999999989287707, 92)\n",
      "(2.999999998229406, 130)\n"
     ]
    }
   ],
   "source": [
    "f = lambda x: (x - 3)**5 * np.log(x)\n",
    "#fp = lambda x: \n",
    "fd = lambda x: 5*np.log(x)*(x-3)**4 + (x-3)**5/x\n",
    "\n",
    "print(bisseccao(f, 2, 5, 200, 1e-10))\n",
    "#print(fixed_point(fp, 0, 200, 1e-10))\n",
    "print(newton_raphson(f, fd, 2, 200, 1e-10))\n",
    "print(metodo_secante(f, 2, 5, 200, 1e-10))"
   ]
  },
  {
   "cell_type": "markdown",
   "id": "a18e0eb5",
   "metadata": {},
   "source": [
    "#### (f) $f6(x) = x^{10} − 1$, com x∗ ∈ [0.8, 1.2]"
   ]
  },
  {
   "cell_type": "code",
   "execution_count": 19,
   "id": "4d403c3f",
   "metadata": {},
   "outputs": [
    {
     "name": "stdout",
     "output_type": "stream",
     "text": [
      "(1.1999992370605468, 19)\n",
      "(0.9999999999988244, 15)\n",
      "(1.0, 12)\n"
     ]
    }
   ],
   "source": [
    "f = lambda x: x**10 -1\n",
    "#fp = lambda x: 1/x**9\n",
    "fd = lambda x: 9*x**9\n",
    "\n",
    "print(bisseccao(f, 0.8, 1.2, 200, 1e-10))\n",
    "#print(fixed_point(fp, 1.2, 200, 1e-10))\n",
    "print(newton_raphson(f, fd, 0.8, 200, 1e-10))\n",
    "print(metodo_secante(f, 0.8, 1.2, 200, 1e-10))"
   ]
  },
  {
   "cell_type": "markdown",
   "id": "9f54ef85",
   "metadata": {},
   "source": [
    "Na maioria dos casos o Newton Raphson conseguiu menas iterações, tirando alguns casos onde ele precisou de muitas iterações para chegar próximo, o segundo melhor foi o da secante, que se saiu um pouco pior que o newton raphson, porém nos casos em que newton raphson foi pior, em um deles o da secante foi melhor... O método da bisseção é na maioria dos casos bom o suficiente mas não o melhor, mas também não é ruim, quando perde não perde por muito.\n",
    "\n",
    "Vale salientar que na questão D, a função de newton Raphson pegou a outra raiz por algum motivo, mas tirando isso todos se saíram bem próximos, e em alguns casos quase idênticos.\n",
    "\n",
    "Meu maior problema foi o do ponto fixo, que em muitos casos não consegui encontrar uma função que não estourasse o algoritmo, dando overflow ou divisão por zero... "
   ]
  }
 ],
 "metadata": {
  "kernelspec": {
   "display_name": "Python 3 (ipykernel)",
   "language": "python",
   "name": "python3"
  },
  "language_info": {
   "codemirror_mode": {
    "name": "ipython",
    "version": 3
   },
   "file_extension": ".py",
   "mimetype": "text/x-python",
   "name": "python",
   "nbconvert_exporter": "python",
   "pygments_lexer": "ipython3",
   "version": "3.9.13"
  }
 },
 "nbformat": 4,
 "nbformat_minor": 5
}
