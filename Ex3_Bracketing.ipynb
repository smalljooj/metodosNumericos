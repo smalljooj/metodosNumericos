{
 "cells": [
  {
   "cell_type": "code",
   "execution_count": 24,
   "id": "6a24015e",
   "metadata": {},
   "outputs": [],
   "source": [
    "import numpy as np"
   ]
  },
  {
   "cell_type": "markdown",
   "id": "ae488d66",
   "metadata": {},
   "source": [
    "### Menor Intervalo"
   ]
  },
  {
   "cell_type": "code",
   "execution_count": 3,
   "id": "4b88c3c9",
   "metadata": {},
   "outputs": [],
   "source": [
    "def bracket_minimun(f, x = 0, s = 1e-2, k = 2):\n",
    "    a = x;\n",
    "    ya = f(a)\n",
    "    b = a + s\n",
    "    yb = f(b)\n",
    "    yc = 0\n",
    "    \n",
    "    if yb > ya:\n",
    "        sacrify = a\n",
    "        a = b\n",
    "        b = sacrify\n",
    "        sacrify = ya\n",
    "        ya = yb\n",
    "        yb = sacrify\n",
    "        s = s * -1\n",
    "\n",
    "    while True:\n",
    "        \n",
    "        c = b + s\n",
    "        yc = f(c)\n",
    "        if yc > yb:\n",
    "            return [a, c] if a < c else [c, a]\n",
    "        a = b\n",
    "        ya = yb\n",
    "        b = c\n",
    "        yb = yc\n",
    "        s = s * k"
   ]
  },
  {
   "cell_type": "code",
   "execution_count": 16,
   "id": "11bcb7ae",
   "metadata": {},
   "outputs": [
    {
     "name": "stdout",
     "output_type": "stream",
     "text": [
      "[-5.109999999999999, -1.27]\n"
     ]
    }
   ],
   "source": [
    "f = lambda x: x**2 + 7*x \n",
    "\n",
    "print(bracket_minimun(f))"
   ]
  },
  {
   "cell_type": "markdown",
   "id": "3dedc3f5",
   "metadata": {},
   "source": [
    "### Busca de Fibonacci"
   ]
  },
  {
   "cell_type": "code",
   "execution_count": 19,
   "id": "5ca73791",
   "metadata": {},
   "outputs": [],
   "source": [
    "def fibonacci_search(f, a, b, n, e = 0.01):\n",
    "    s = (1 - np.sqrt(5)) / ( 1+ np.sqrt(5))\n",
    "    p = 1 / (1.61803 * (1 - s**(n+1))/(1 - s**n))\n",
    "    d = p * b + (1 - p) * a\n",
    "    yd = f(d)\n",
    "    \n",
    "    for i in range(n):\n",
    "        if i == n - 1:\n",
    "            c = e * a + (1 - e) * d\n",
    "        else:\n",
    "            c = p * a + (1 - p) * b\n",
    "\n",
    "        yc = f(c)\n",
    "\n",
    "        if yc < yd:\n",
    "            b = d\n",
    "            d = c\n",
    "            yd = yc\n",
    "        else:\n",
    "            a = b\n",
    "            b = c\n",
    "        p = 1 / (1.61803 * (1 - s**(n - i + 1))/(1 - s**(n-i)))\n",
    "    return [a, b] if a < b else [b, a]"
   ]
  },
  {
   "cell_type": "code",
   "execution_count": null,
   "id": "8e19fd90",
   "metadata": {},
   "outputs": [],
   "source": []
  },
  {
   "cell_type": "markdown",
   "id": "be62547d",
   "metadata": {},
   "source": [
    "### Busca da Gold Section"
   ]
  },
  {
   "cell_type": "code",
   "execution_count": 21,
   "id": "a3bb5f82",
   "metadata": {},
   "outputs": [],
   "source": [
    "def golden_section_search(f, a, b, n):\n",
    "    p = 1.61803 - 1\n",
    "    d = p * b + (1 - p) * a\n",
    "    yd = f(d)\n",
    "    \n",
    "    for i in range(n):\n",
    "        c = p * a + (1 - p) * b\n",
    "        yc = f(c)\n",
    "        if yc < yd:\n",
    "            b = d\n",
    "            d = c\n",
    "            yd = yc\n",
    "        else:\n",
    "            a = b\n",
    "            b = c\n",
    "    return [a, b] if a < b else [b, a]"
   ]
  },
  {
   "cell_type": "code",
   "execution_count": null,
   "id": "9a6676b8",
   "metadata": {},
   "outputs": [],
   "source": []
  },
  {
   "cell_type": "markdown",
   "id": "eec3f7fd",
   "metadata": {},
   "source": [
    "### Pesquisa de ajuste quadrático"
   ]
  },
  {
   "cell_type": "code",
   "execution_count": 26,
   "id": "1469f7cb",
   "metadata": {},
   "outputs": [],
   "source": [
    "def quadratic_fit_search(f, a, b, c, n):\n",
    "    ya = f(a)\n",
    "    yb = f(b)\n",
    "    yc = f(c)\n",
    "    for i in range(n - 2):\n",
    "        x = 0.5*(ya*(b^2-c^2)+yb*(c^2-a^2)+yc*(a^2-b^2)) / (ya*(b-c) +yb*(c-a) +yc*(a-b))\n",
    "        yx = f(x)\n",
    "        if x > b:\n",
    "            if yx > yb:\n",
    "                c = x\n",
    "                yc = yx\n",
    "            else:\n",
    "                a = b\n",
    "                ya = yb\n",
    "                b = x\n",
    "                yb = yx\n",
    "        elif x < b:\n",
    "            if yx > yb:\n",
    "                a = x\n",
    "                ya = yx\n",
    "            else:\n",
    "                c = b\n",
    "                yc = yb\n",
    "                b = x\n",
    "                yb = yx\n",
    "    return [a, b, c]\n"
   ]
  },
  {
   "cell_type": "code",
   "execution_count": null,
   "id": "81fd0564",
   "metadata": {},
   "outputs": [],
   "source": []
  },
  {
   "cell_type": "markdown",
   "id": "77e325fa",
   "metadata": {},
   "source": [
    "### Metodo Bissecção"
   ]
  },
  {
   "cell_type": "code",
   "execution_count": 27,
   "id": "566aa7e3",
   "metadata": {},
   "outputs": [],
   "source": [
    "def bisection(f, a, b, e):\n",
    "    if a > b:\n",
    "        sacrify = a\n",
    "        a = b\n",
    "        b = sacrify\n",
    "\n",
    "    ya = f(a)\n",
    "    yb = f(b)\n",
    "    if ya == 0:\n",
    "        b = a\n",
    "    if yb == 0: \n",
    "        a = b\n",
    "    while b - a > e:\n",
    "        x = (a + b) / 2\n",
    "        y = f(x)\n",
    "        if y == 0:\n",
    "            a = x\n",
    "            b = x\n",
    "        elif np.sign(y) == np.sign(ya):\n",
    "            a = x\n",
    "        else:\n",
    "            b = x\n",
    "    return [a, b]\n"
   ]
  },
  {
   "cell_type": "code",
   "execution_count": null,
   "id": "9cdb2504",
   "metadata": {},
   "outputs": [],
   "source": []
  },
  {
   "cell_type": "markdown",
   "id": "5e52aa26",
   "metadata": {},
   "source": [
    "### Bracket Sign change"
   ]
  },
  {
   "cell_type": "code",
   "execution_count": 28,
   "id": "aad470eb",
   "metadata": {},
   "outputs": [],
   "source": [
    "def bracket_sign_change(f, a, b, k=2):\n",
    "    if a > b:\n",
    "        sacrify = a\n",
    "        a = b\n",
    "        b = sacrify\n",
    "        \n",
    "    center, half_width = (b+a)/2, (b-a)/2\n",
    "    while f(a) * f(b) > 0:\n",
    "        half_width *= k\n",
    "        a = center - half_width\n",
    "        b = center + half_width\n",
    "    return [a, b]\n"
   ]
  },
  {
   "cell_type": "code",
   "execution_count": null,
   "id": "648446af",
   "metadata": {},
   "outputs": [],
   "source": []
  }
 ],
 "metadata": {
  "kernelspec": {
   "display_name": "Python 3 (ipykernel)",
   "language": "python",
   "name": "python3"
  },
  "language_info": {
   "codemirror_mode": {
    "name": "ipython",
    "version": 3
   },
   "file_extension": ".py",
   "mimetype": "text/x-python",
   "name": "python",
   "nbconvert_exporter": "python",
   "pygments_lexer": "ipython3",
   "version": "3.9.13"
  }
 },
 "nbformat": 4,
 "nbformat_minor": 5
}
