{
 "cells": [
  {
   "cell_type": "markdown",
   "id": "8b4c5a99",
   "metadata": {},
   "source": [
    "# Ex2 - Método Bisseccao - Ismael Marinho"
   ]
  },
  {
   "cell_type": "code",
   "execution_count": 8,
   "id": "cdc23e01",
   "metadata": {},
   "outputs": [],
   "source": [
    "import numpy as np\n",
    "import pandas as pd\n",
    "\n",
    "import matplotlib.pyplot as plt"
   ]
  },
  {
   "cell_type": "markdown",
   "id": "b4bee390",
   "metadata": {},
   "source": [
    "## Questão 1"
   ]
  },
  {
   "cell_type": "markdown",
   "id": "28896f96",
   "metadata": {},
   "source": [
    "### Criando a função da Bissecção"
   ]
  },
  {
   "cell_type": "code",
   "execution_count": 5,
   "id": "92d6176e",
   "metadata": {},
   "outputs": [],
   "source": [
    "def bisseccao(f, a, b, e = 1e-10):\n",
    "    x = 0\n",
    "    x_prev = a\n",
    "    err = 1\n",
    "    \n",
    "    if np.sign(f(a)) * np.sign(f(b)) != -1:\n",
    "            return False\n",
    "    \n",
    "    while err > e:\n",
    "        x = (a + b) / 2\n",
    "        if f(x) == 0:\n",
    "            return x\n",
    "        elif np.sign(f(a)) * np.sign(f(x)) == -1:\n",
    "            b = x\n",
    "        else:\n",
    "            a = x   \n",
    "        err = np.abs((x - x_prev) / x)\n",
    "        x_prev = x\n",
    "    return x\n"
   ]
  },
  {
   "cell_type": "markdown",
   "id": "9efac4b5",
   "metadata": {},
   "source": [
    "A função recebe 4 parâmetros, sendo eles a função(f), o intervalo(a, b) e a tolerancia(e).\n",
    "\n",
    "A ideia da função é ir reduzindo o intervalo até encontrar a raiz. Então a cada iteração o intervalo é partido ao meio e verifica-se se \"x\" é a raiz, ou se entre \"x\" e \"a\" ainda possui uma raiz, senão \"a\" será igual ao \"x\", já que entre eles há uma raiz. E assim se repete até encontrar a raiz ou a taxa de erro ser menor que 1e-10."
   ]
  },
  {
   "cell_type": "markdown",
   "id": "e8f8848b",
   "metadata": {},
   "source": [
    "### Teste"
   ]
  },
  {
   "cell_type": "code",
   "execution_count": 7,
   "id": "96ed2da1",
   "metadata": {},
   "outputs": [
    {
     "name": "stdout",
     "output_type": "stream",
     "text": [
      "-0.6972243622731185\n",
      "-0.6972243622731185\n"
     ]
    }
   ],
   "source": [
    "f = lambda x: x**2 + 5*x + 3\n",
    "\n",
    "print(bisseccao(f, -2, 1))\n",
    "print(bisseccao(f, 1, -2))"
   ]
  },
  {
   "cell_type": "markdown",
   "id": "c3c55437",
   "metadata": {},
   "source": [
    "Nesse caso ele inclusive saiu do loop quando o erro foi menor 1e-10, pois o número de interações para encontrar a raiz seria muito grande ou impossível(ficaria calculando infinitamente)."
   ]
  },
  {
   "cell_type": "markdown",
   "id": "6d32f160",
   "metadata": {},
   "source": [
    "## Questão 2"
   ]
  },
  {
   "cell_type": "code",
   "execution_count": null,
   "id": "16035ef0",
   "metadata": {},
   "outputs": [],
   "source": []
  }
 ],
 "metadata": {
  "kernelspec": {
   "display_name": "Python 3 (ipykernel)",
   "language": "python",
   "name": "python3"
  },
  "language_info": {
   "codemirror_mode": {
    "name": "ipython",
    "version": 3
   },
   "file_extension": ".py",
   "mimetype": "text/x-python",
   "name": "python",
   "nbconvert_exporter": "python",
   "pygments_lexer": "ipython3",
   "version": "3.9.13"
  }
 },
 "nbformat": 4,
 "nbformat_minor": 5
}
