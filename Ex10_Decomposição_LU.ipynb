{
 "cells": [
  {
   "cell_type": "markdown",
   "id": "c88fb392",
   "metadata": {},
   "source": [
    "# Ex10 - Decomposição LU - Ismael Marinho"
   ]
  },
  {
   "cell_type": "code",
   "execution_count": 2,
   "id": "04df64e9",
   "metadata": {},
   "outputs": [],
   "source": [
    "import numpy as np\n",
    "import scipy.linalg as sla\n",
    "import matplotlib.pyplot as plt"
   ]
  },
  {
   "cell_type": "markdown",
   "id": "d4d41a6b",
   "metadata": {},
   "source": [
    "## Exercício 10.3"
   ]
  },
  {
   "cell_type": "code",
   "execution_count": 8,
   "id": "9e9368b5",
   "metadata": {},
   "outputs": [
    {
     "data": {
      "text/plain": [
       "-1.1670196820964938"
      ]
     },
     "execution_count": 8,
     "metadata": {},
     "output_type": "execute_result"
    }
   ],
   "source": [
    "M = np.random.randn(6, 6)\n",
    "\n",
    "P, L, U = sla.lu(M)\n",
    "\n",
    "lu_d = np.prod(np.diag(U)) * np.linalg.det(P)\n",
    "\n",
    "m_d = np.linalg.det(M)\n",
    "\n",
    "lu_d"
   ]
  },
  {
   "cell_type": "code",
   "execution_count": 9,
   "id": "63abb508",
   "metadata": {},
   "outputs": [
    {
     "data": {
      "text/plain": [
       "-1.1670196820964938"
      ]
     },
     "execution_count": 9,
     "metadata": {},
     "output_type": "execute_result"
    }
   ],
   "source": [
    "lu_d"
   ]
  },
  {
   "cell_type": "markdown",
   "id": "6a20746f",
   "metadata": {},
   "source": [
    "## Exercício 10.4"
   ]
  },
  {
   "cell_type": "code",
   "execution_count": 11,
   "id": "f60f9611",
   "metadata": {},
   "outputs": [
    {
     "data": {
      "text/plain": [
       "array([[ 1.00000000e+00,  0.00000000e+00,  0.00000000e+00,\n",
       "         1.38777878e-17],\n",
       "       [ 0.00000000e+00,  1.00000000e+00,  0.00000000e+00,\n",
       "         5.55111512e-17],\n",
       "       [-5.55111512e-17,  0.00000000e+00,  1.00000000e+00,\n",
       "         9.71445147e-17],\n",
       "       [-4.44089210e-16,  0.00000000e+00,  8.88178420e-16,\n",
       "         1.00000000e+00]])"
      ]
     },
     "execution_count": 11,
     "metadata": {},
     "output_type": "execute_result"
    }
   ],
   "source": [
    "M = np.random.randn(4, 4)\n",
    "\n",
    "P,L,U = sla.lu(M)\n",
    "\n",
    "inv_lu = sla.inv(U) @ sla.inv(L) @ P.T\n",
    "\n",
    "inv_m = np.linalg.inv(M)\n",
    "\n",
    "M @ inv_lu"
   ]
  }
 ],
 "metadata": {
  "kernelspec": {
   "display_name": "Python 3 (ipykernel)",
   "language": "python",
   "name": "python3"
  },
  "language_info": {
   "codemirror_mode": {
    "name": "ipython",
    "version": 3
   },
   "file_extension": ".py",
   "mimetype": "text/x-python",
   "name": "python",
   "nbconvert_exporter": "python",
   "pygments_lexer": "ipython3",
   "version": "3.9.13"
  }
 },
 "nbformat": 4,
 "nbformat_minor": 5
}
